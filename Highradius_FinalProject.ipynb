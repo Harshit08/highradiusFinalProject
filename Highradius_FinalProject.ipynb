{
 "cells": [
  {
   "cell_type": "markdown",
   "metadata": {},
   "source": [
    "# Milestone1"
   ]
  },
  {
   "cell_type": "code",
   "execution_count": 1,
   "metadata": {},
   "outputs": [],
   "source": [
    "import pandas as pd\n",
    "import numpy as np\n",
    "\n",
    "from sklearn.model_selection import train_test_split\n",
    "from sklearn.feature_selection import VarianceThreshold\n",
    "\n",
    "import datetime\n",
    "import seaborn as sns\n",
    "import matplotlib.pyplot as plt\n",
    "\n",
    "%matplotlib inline\n",
    "import warnings\n",
    "warnings.filterwarnings(\"ignore\")\n"
   ]
  },
  {
   "cell_type": "code",
   "execution_count": 2,
   "metadata": {},
   "outputs": [
    {
     "data": {
      "text/plain": [
       "(50000, 19)"
      ]
     },
     "execution_count": 2,
     "metadata": {},
     "output_type": "execute_result"
    }
   ],
   "source": [
    "# load and read any dataset\n",
    "data = pd.read_csv('D:\\Cu\\hiradius\\datasets1\\H2HBABBA2299.csv')\n",
    "data.shape"
   ]
  },
  {
   "cell_type": "markdown",
   "metadata": {},
   "source": [
    "### Analyse the data"
   ]
  },
  {
   "cell_type": "code",
   "execution_count": 3,
   "metadata": {},
   "outputs": [
    {
     "data": {
      "text/html": [
       "<div>\n",
       "<style scoped>\n",
       "    .dataframe tbody tr th:only-of-type {\n",
       "        vertical-align: middle;\n",
       "    }\n",
       "\n",
       "    .dataframe tbody tr th {\n",
       "        vertical-align: top;\n",
       "    }\n",
       "\n",
       "    .dataframe thead th {\n",
       "        text-align: right;\n",
       "    }\n",
       "</style>\n",
       "<table border=\"1\" class=\"dataframe\">\n",
       "  <thead>\n",
       "    <tr style=\"text-align: right;\">\n",
       "      <th></th>\n",
       "      <th>business_code</th>\n",
       "      <th>cust_number</th>\n",
       "      <th>name_customer</th>\n",
       "      <th>clear_date</th>\n",
       "      <th>buisness_year</th>\n",
       "      <th>doc_id</th>\n",
       "      <th>posting_date</th>\n",
       "      <th>document_create_date</th>\n",
       "      <th>document_create_date.1</th>\n",
       "      <th>due_in_date</th>\n",
       "      <th>invoice_currency</th>\n",
       "      <th>document type</th>\n",
       "      <th>posting_id</th>\n",
       "      <th>area_business</th>\n",
       "      <th>total_open_amount</th>\n",
       "      <th>baseline_create_date</th>\n",
       "      <th>cust_payment_terms</th>\n",
       "      <th>invoice_id</th>\n",
       "      <th>isOpen</th>\n",
       "    </tr>\n",
       "  </thead>\n",
       "  <tbody>\n",
       "    <tr>\n",
       "      <td>0</td>\n",
       "      <td>U001</td>\n",
       "      <td>0100030443</td>\n",
       "      <td>GLACIE foundation</td>\n",
       "      <td>2019-11-15 00:00:00</td>\n",
       "      <td>2019.0</td>\n",
       "      <td>1.930048e+09</td>\n",
       "      <td>2019-10-23</td>\n",
       "      <td>20191023</td>\n",
       "      <td>20191023</td>\n",
       "      <td>20191107.0</td>\n",
       "      <td>USD</td>\n",
       "      <td>RV</td>\n",
       "      <td>1.0</td>\n",
       "      <td>NaN</td>\n",
       "      <td>925.27</td>\n",
       "      <td>20191023.0</td>\n",
       "      <td>NAA8</td>\n",
       "      <td>1.930048e+09</td>\n",
       "      <td>0</td>\n",
       "    </tr>\n",
       "    <tr>\n",
       "      <td>1</td>\n",
       "      <td>U001</td>\n",
       "      <td>200744019</td>\n",
       "      <td>TARG foundation</td>\n",
       "      <td>2019-07-12 00:00:00</td>\n",
       "      <td>2019.0</td>\n",
       "      <td>1.929541e+09</td>\n",
       "      <td>2019-06-25</td>\n",
       "      <td>20190625</td>\n",
       "      <td>20190625</td>\n",
       "      <td>20190710.0</td>\n",
       "      <td>USD</td>\n",
       "      <td>RV</td>\n",
       "      <td>1.0</td>\n",
       "      <td>NaN</td>\n",
       "      <td>132548.21</td>\n",
       "      <td>20190625.0</td>\n",
       "      <td>NAA8</td>\n",
       "      <td>1.929541e+09</td>\n",
       "      <td>0</td>\n",
       "    </tr>\n",
       "    <tr>\n",
       "      <td>2</td>\n",
       "      <td>U001</td>\n",
       "      <td>0200769623</td>\n",
       "      <td>WAL-MAR corp</td>\n",
       "      <td>2019-11-19 00:00:00</td>\n",
       "      <td>2019.0</td>\n",
       "      <td>1.930131e+09</td>\n",
       "      <td>2019-11-09</td>\n",
       "      <td>20191108</td>\n",
       "      <td>20191109</td>\n",
       "      <td>20191124.0</td>\n",
       "      <td>USD</td>\n",
       "      <td>RV</td>\n",
       "      <td>1.0</td>\n",
       "      <td>NaN</td>\n",
       "      <td>69755.72</td>\n",
       "      <td>20191109.0</td>\n",
       "      <td>NAH4</td>\n",
       "      <td>1.930131e+09</td>\n",
       "      <td>0</td>\n",
       "    </tr>\n",
       "    <tr>\n",
       "      <td>3</td>\n",
       "      <td>U001</td>\n",
       "      <td>0200769623</td>\n",
       "      <td>WAL-MAR associates</td>\n",
       "      <td>2019-10-28 00:00:00</td>\n",
       "      <td>2019.0</td>\n",
       "      <td>1.930016e+09</td>\n",
       "      <td>2019-10-16</td>\n",
       "      <td>20191015</td>\n",
       "      <td>20191016</td>\n",
       "      <td>20191031.0</td>\n",
       "      <td>USD</td>\n",
       "      <td>RV</td>\n",
       "      <td>1.0</td>\n",
       "      <td>NaN</td>\n",
       "      <td>56248.33</td>\n",
       "      <td>20191016.0</td>\n",
       "      <td>NAH4</td>\n",
       "      <td>1.930016e+09</td>\n",
       "      <td>0</td>\n",
       "    </tr>\n",
       "    <tr>\n",
       "      <td>4</td>\n",
       "      <td>U001</td>\n",
       "      <td>0200749782</td>\n",
       "      <td>KROG trust</td>\n",
       "      <td>2019-07-23 00:00:00</td>\n",
       "      <td>2019.0</td>\n",
       "      <td>1.929587e+09</td>\n",
       "      <td>2019-07-08</td>\n",
       "      <td>20190708</td>\n",
       "      <td>20190708</td>\n",
       "      <td>20190723.0</td>\n",
       "      <td>USD</td>\n",
       "      <td>RV</td>\n",
       "      <td>1.0</td>\n",
       "      <td>NaN</td>\n",
       "      <td>12417.30</td>\n",
       "      <td>20190708.0</td>\n",
       "      <td>NAA8</td>\n",
       "      <td>1.929587e+09</td>\n",
       "      <td>0</td>\n",
       "    </tr>\n",
       "  </tbody>\n",
       "</table>\n",
       "</div>"
      ],
      "text/plain": [
       "  business_code cust_number       name_customer           clear_date  \\\n",
       "0          U001  0100030443   GLACIE foundation  2019-11-15 00:00:00   \n",
       "1          U001   200744019     TARG foundation  2019-07-12 00:00:00   \n",
       "2          U001  0200769623        WAL-MAR corp  2019-11-19 00:00:00   \n",
       "3          U001  0200769623  WAL-MAR associates  2019-10-28 00:00:00   \n",
       "4          U001  0200749782          KROG trust  2019-07-23 00:00:00   \n",
       "\n",
       "   buisness_year        doc_id posting_date  document_create_date  \\\n",
       "0         2019.0  1.930048e+09   2019-10-23              20191023   \n",
       "1         2019.0  1.929541e+09   2019-06-25              20190625   \n",
       "2         2019.0  1.930131e+09   2019-11-09              20191108   \n",
       "3         2019.0  1.930016e+09   2019-10-16              20191015   \n",
       "4         2019.0  1.929587e+09   2019-07-08              20190708   \n",
       "\n",
       "   document_create_date.1  due_in_date invoice_currency document type  \\\n",
       "0                20191023   20191107.0              USD            RV   \n",
       "1                20190625   20190710.0              USD            RV   \n",
       "2                20191109   20191124.0              USD            RV   \n",
       "3                20191016   20191031.0              USD            RV   \n",
       "4                20190708   20190723.0              USD            RV   \n",
       "\n",
       "   posting_id  area_business  total_open_amount  baseline_create_date  \\\n",
       "0         1.0            NaN             925.27            20191023.0   \n",
       "1         1.0            NaN          132548.21            20190625.0   \n",
       "2         1.0            NaN           69755.72            20191109.0   \n",
       "3         1.0            NaN           56248.33            20191016.0   \n",
       "4         1.0            NaN           12417.30            20190708.0   \n",
       "\n",
       "  cust_payment_terms    invoice_id  isOpen  \n",
       "0               NAA8  1.930048e+09       0  \n",
       "1               NAA8  1.929541e+09       0  \n",
       "2               NAH4  1.930131e+09       0  \n",
       "3               NAH4  1.930016e+09       0  \n",
       "4               NAA8  1.929587e+09       0  "
      ]
     },
     "execution_count": 3,
     "metadata": {},
     "output_type": "execute_result"
    }
   ],
   "source": [
    "data.head()"
   ]
  },
  {
   "cell_type": "code",
   "execution_count": 4,
   "metadata": {
    "scrolled": true
   },
   "outputs": [
    {
     "data": {
      "text/plain": [
       "business_code                 0\n",
       "cust_number                   0\n",
       "name_customer                 0\n",
       "clear_date                10000\n",
       "buisness_year                 0\n",
       "doc_id                        0\n",
       "posting_date                  0\n",
       "document_create_date          0\n",
       "document_create_date.1        0\n",
       "due_in_date                   0\n",
       "invoice_currency              0\n",
       "document type                 0\n",
       "posting_id                    0\n",
       "area_business             50000\n",
       "total_open_amount             0\n",
       "baseline_create_date          0\n",
       "cust_payment_terms            0\n",
       "invoice_id                    3\n",
       "isOpen                        0\n",
       "dtype: int64"
      ]
     },
     "execution_count": 4,
     "metadata": {},
     "output_type": "execute_result"
    }
   ],
   "source": [
    "# to check which column has how many null data\n",
    "data.isnull().sum()"
   ]
  },
  {
   "cell_type": "code",
   "execution_count": 5,
   "metadata": {},
   "outputs": [],
   "source": [
    "#Since our target value is clear_date and\n",
    "#hence seprating data into two parts\n",
    "#1. final_Train where clear data is not null\n",
    "#2. final_Test where clear data is null"
   ]
  },
  {
   "cell_type": "code",
   "execution_count": 6,
   "metadata": {},
   "outputs": [],
   "source": [
    "#if clear_date.isnull is returning False,hence no null value else there is null value\n",
    "final_train = data[data.clear_date.isnull()==False]\n",
    "final_test = data[data.clear_date.isnull()]"
   ]
  },
  {
   "cell_type": "markdown",
   "metadata": {},
   "source": [
    "## Pre-Processing"
   ]
  },
  {
   "cell_type": "markdown",
   "metadata": {},
   "source": [
    "### Null Imputation"
   ]
  },
  {
   "cell_type": "code",
   "execution_count": 7,
   "metadata": {
    "scrolled": true
   },
   "outputs": [
    {
     "data": {
      "text/plain": [
       "business_code                 0\n",
       "cust_number                   0\n",
       "name_customer                 0\n",
       "clear_date                    0\n",
       "buisness_year                 0\n",
       "doc_id                        0\n",
       "posting_date                  0\n",
       "document_create_date          0\n",
       "document_create_date.1        0\n",
       "due_in_date                   0\n",
       "invoice_currency              0\n",
       "document type                 0\n",
       "posting_id                    0\n",
       "area_business             40000\n",
       "total_open_amount             0\n",
       "baseline_create_date          0\n",
       "cust_payment_terms            0\n",
       "invoice_id                    3\n",
       "isOpen                        0\n",
       "dtype: int64"
      ]
     },
     "execution_count": 7,
     "metadata": {},
     "output_type": "execute_result"
    }
   ],
   "source": [
    "final_train.isnull().sum()"
   ]
  },
  {
   "cell_type": "code",
   "execution_count": 8,
   "metadata": {},
   "outputs": [
    {
     "data": {
      "text/html": [
       "<div>\n",
       "<style scoped>\n",
       "    .dataframe tbody tr th:only-of-type {\n",
       "        vertical-align: middle;\n",
       "    }\n",
       "\n",
       "    .dataframe tbody tr th {\n",
       "        vertical-align: top;\n",
       "    }\n",
       "\n",
       "    .dataframe thead th {\n",
       "        text-align: right;\n",
       "    }\n",
       "</style>\n",
       "<table border=\"1\" class=\"dataframe\">\n",
       "  <thead>\n",
       "    <tr style=\"text-align: right;\">\n",
       "      <th></th>\n",
       "      <th>business_code</th>\n",
       "      <th>cust_number</th>\n",
       "      <th>name_customer</th>\n",
       "      <th>clear_date</th>\n",
       "      <th>buisness_year</th>\n",
       "      <th>doc_id</th>\n",
       "      <th>posting_date</th>\n",
       "      <th>document_create_date</th>\n",
       "      <th>document_create_date.1</th>\n",
       "      <th>due_in_date</th>\n",
       "      <th>invoice_currency</th>\n",
       "      <th>document type</th>\n",
       "      <th>posting_id</th>\n",
       "      <th>area_business</th>\n",
       "      <th>total_open_amount</th>\n",
       "      <th>baseline_create_date</th>\n",
       "      <th>cust_payment_terms</th>\n",
       "      <th>invoice_id</th>\n",
       "      <th>isOpen</th>\n",
       "    </tr>\n",
       "  </thead>\n",
       "  <tbody>\n",
       "    <tr>\n",
       "      <td>17282</td>\n",
       "      <td>CA02</td>\n",
       "      <td>0140104409</td>\n",
       "      <td>LOB</td>\n",
       "      <td>2019-12-27 00:00:00</td>\n",
       "      <td>2019.0</td>\n",
       "      <td>9.500000e+09</td>\n",
       "      <td>2019-03-29</td>\n",
       "      <td>20190329</td>\n",
       "      <td>20181212</td>\n",
       "      <td>20181222.0</td>\n",
       "      <td>CAD</td>\n",
       "      <td>X2</td>\n",
       "      <td>1.0</td>\n",
       "      <td>NaN</td>\n",
       "      <td>628.6</td>\n",
       "      <td>20181212.0</td>\n",
       "      <td>CA10</td>\n",
       "      <td>NaN</td>\n",
       "      <td>0</td>\n",
       "    </tr>\n",
       "    <tr>\n",
       "      <td>34492</td>\n",
       "      <td>CA02</td>\n",
       "      <td>0140104223</td>\n",
       "      <td>H Y LO llc</td>\n",
       "      <td>2019-05-08 00:00:00</td>\n",
       "      <td>2019.0</td>\n",
       "      <td>9.500000e+09</td>\n",
       "      <td>2019-03-29</td>\n",
       "      <td>20190329</td>\n",
       "      <td>20190315</td>\n",
       "      <td>20190325.0</td>\n",
       "      <td>CAD</td>\n",
       "      <td>X2</td>\n",
       "      <td>1.0</td>\n",
       "      <td>NaN</td>\n",
       "      <td>5070.0</td>\n",
       "      <td>20190315.0</td>\n",
       "      <td>CA10</td>\n",
       "      <td>NaN</td>\n",
       "      <td>0</td>\n",
       "    </tr>\n",
       "    <tr>\n",
       "      <td>35425</td>\n",
       "      <td>CA02</td>\n",
       "      <td>0140104429</td>\n",
       "      <td>COSTCO co</td>\n",
       "      <td>2019-05-02 00:00:00</td>\n",
       "      <td>2019.0</td>\n",
       "      <td>9.500000e+09</td>\n",
       "      <td>2019-03-29</td>\n",
       "      <td>20190329</td>\n",
       "      <td>20190227</td>\n",
       "      <td>20190309.0</td>\n",
       "      <td>CAD</td>\n",
       "      <td>X2</td>\n",
       "      <td>1.0</td>\n",
       "      <td>NaN</td>\n",
       "      <td>52992.0</td>\n",
       "      <td>20190227.0</td>\n",
       "      <td>CA10</td>\n",
       "      <td>NaN</td>\n",
       "      <td>0</td>\n",
       "    </tr>\n",
       "  </tbody>\n",
       "</table>\n",
       "</div>"
      ],
      "text/plain": [
       "      business_code cust_number name_customer           clear_date  \\\n",
       "17282          CA02  0140104409          LOB   2019-12-27 00:00:00   \n",
       "34492          CA02  0140104223    H Y LO llc  2019-05-08 00:00:00   \n",
       "35425          CA02  0140104429     COSTCO co  2019-05-02 00:00:00   \n",
       "\n",
       "       buisness_year        doc_id posting_date  document_create_date  \\\n",
       "17282         2019.0  9.500000e+09   2019-03-29              20190329   \n",
       "34492         2019.0  9.500000e+09   2019-03-29              20190329   \n",
       "35425         2019.0  9.500000e+09   2019-03-29              20190329   \n",
       "\n",
       "       document_create_date.1  due_in_date invoice_currency document type  \\\n",
       "17282                20181212   20181222.0              CAD            X2   \n",
       "34492                20190315   20190325.0              CAD            X2   \n",
       "35425                20190227   20190309.0              CAD            X2   \n",
       "\n",
       "       posting_id  area_business  total_open_amount  baseline_create_date  \\\n",
       "17282         1.0            NaN              628.6            20181212.0   \n",
       "34492         1.0            NaN             5070.0            20190315.0   \n",
       "35425         1.0            NaN            52992.0            20190227.0   \n",
       "\n",
       "      cust_payment_terms  invoice_id  isOpen  \n",
       "17282               CA10         NaN       0  \n",
       "34492               CA10         NaN       0  \n",
       "35425               CA10         NaN       0  "
      ]
     },
     "execution_count": 8,
     "metadata": {},
     "output_type": "execute_result"
    }
   ],
   "source": [
    "#Here we can see invoice_id is having 3 null values corrosponding to which doc_id is not null\n",
    "final_train[data.invoice_id.isna()== True]\n"
   ]
  },
  {
   "cell_type": "code",
   "execution_count": 9,
   "metadata": {},
   "outputs": [
    {
     "data": {
      "text/plain": [
       "True     39997\n",
       "False        3\n",
       "Name: invoice_id, dtype: int64"
      ]
     },
     "execution_count": 9,
     "metadata": {},
     "output_type": "execute_result"
    }
   ],
   "source": [
    "#Here we can compare that invoice_id and doc_id is almost same except the 3 column\n",
    "#And from above table we can see that 3 columns i.e they are having null values\n",
    "final_train['invoice_id'].isin(final_train['doc_id']).value_counts()"
   ]
  },
  {
   "cell_type": "code",
   "execution_count": 10,
   "metadata": {},
   "outputs": [],
   "source": [
    "#It is better to drop the invoice_id column\n",
    "final_train=final_train.drop(['invoice_id'], axis=1)"
   ]
  },
  {
   "cell_type": "markdown",
   "metadata": {},
   "source": [
    "### Removal of Constant column /duplicates"
   ]
  },
  {
   "cell_type": "code",
   "execution_count": 11,
   "metadata": {},
   "outputs": [],
   "source": [
    "#removing all columns having constant value i.e ,'posting_id'\n",
    "final_train = final_train.loc[:,final_train.apply(pd.Series.nunique) != 1]"
   ]
  },
  {
   "cell_type": "code",
   "execution_count": 12,
   "metadata": {},
   "outputs": [],
   "source": [
    "#Removing all rows and columns if all Null/Nan values ot are Null/NaN\n",
    "final_train = final_train.dropna(how='all')\n",
    "final_train = final_train.dropna(how='all', axis=1)"
   ]
  },
  {
   "cell_type": "code",
   "execution_count": 13,
   "metadata": {},
   "outputs": [
    {
     "data": {
      "text/html": [
       "<div>\n",
       "<style scoped>\n",
       "    .dataframe tbody tr th:only-of-type {\n",
       "        vertical-align: middle;\n",
       "    }\n",
       "\n",
       "    .dataframe tbody tr th {\n",
       "        vertical-align: top;\n",
       "    }\n",
       "\n",
       "    .dataframe thead th {\n",
       "        text-align: right;\n",
       "    }\n",
       "</style>\n",
       "<table border=\"1\" class=\"dataframe\">\n",
       "  <thead>\n",
       "    <tr style=\"text-align: right;\">\n",
       "      <th></th>\n",
       "      <th>business_code</th>\n",
       "      <th>cust_number</th>\n",
       "      <th>name_customer</th>\n",
       "      <th>clear_date</th>\n",
       "      <th>buisness_year</th>\n",
       "      <th>doc_id</th>\n",
       "      <th>posting_date</th>\n",
       "      <th>document_create_date</th>\n",
       "      <th>document_create_date.1</th>\n",
       "      <th>due_in_date</th>\n",
       "      <th>invoice_currency</th>\n",
       "      <th>document type</th>\n",
       "      <th>total_open_amount</th>\n",
       "      <th>baseline_create_date</th>\n",
       "      <th>cust_payment_terms</th>\n",
       "    </tr>\n",
       "  </thead>\n",
       "  <tbody>\n",
       "    <tr>\n",
       "      <td>0</td>\n",
       "      <td>U001</td>\n",
       "      <td>0100030443</td>\n",
       "      <td>GLACIE foundation</td>\n",
       "      <td>2019-11-15 00:00:00</td>\n",
       "      <td>2019.0</td>\n",
       "      <td>1.930048e+09</td>\n",
       "      <td>2019-10-23</td>\n",
       "      <td>20191023</td>\n",
       "      <td>20191023</td>\n",
       "      <td>20191107.0</td>\n",
       "      <td>USD</td>\n",
       "      <td>RV</td>\n",
       "      <td>925.27</td>\n",
       "      <td>20191023.0</td>\n",
       "      <td>NAA8</td>\n",
       "    </tr>\n",
       "    <tr>\n",
       "      <td>1</td>\n",
       "      <td>U001</td>\n",
       "      <td>200744019</td>\n",
       "      <td>TARG foundation</td>\n",
       "      <td>2019-07-12 00:00:00</td>\n",
       "      <td>2019.0</td>\n",
       "      <td>1.929541e+09</td>\n",
       "      <td>2019-06-25</td>\n",
       "      <td>20190625</td>\n",
       "      <td>20190625</td>\n",
       "      <td>20190710.0</td>\n",
       "      <td>USD</td>\n",
       "      <td>RV</td>\n",
       "      <td>132548.21</td>\n",
       "      <td>20190625.0</td>\n",
       "      <td>NAA8</td>\n",
       "    </tr>\n",
       "    <tr>\n",
       "      <td>2</td>\n",
       "      <td>U001</td>\n",
       "      <td>0200769623</td>\n",
       "      <td>WAL-MAR corp</td>\n",
       "      <td>2019-11-19 00:00:00</td>\n",
       "      <td>2019.0</td>\n",
       "      <td>1.930131e+09</td>\n",
       "      <td>2019-11-09</td>\n",
       "      <td>20191108</td>\n",
       "      <td>20191109</td>\n",
       "      <td>20191124.0</td>\n",
       "      <td>USD</td>\n",
       "      <td>RV</td>\n",
       "      <td>69755.72</td>\n",
       "      <td>20191109.0</td>\n",
       "      <td>NAH4</td>\n",
       "    </tr>\n",
       "    <tr>\n",
       "      <td>3</td>\n",
       "      <td>U001</td>\n",
       "      <td>0200769623</td>\n",
       "      <td>WAL-MAR associates</td>\n",
       "      <td>2019-10-28 00:00:00</td>\n",
       "      <td>2019.0</td>\n",
       "      <td>1.930016e+09</td>\n",
       "      <td>2019-10-16</td>\n",
       "      <td>20191015</td>\n",
       "      <td>20191016</td>\n",
       "      <td>20191031.0</td>\n",
       "      <td>USD</td>\n",
       "      <td>RV</td>\n",
       "      <td>56248.33</td>\n",
       "      <td>20191016.0</td>\n",
       "      <td>NAH4</td>\n",
       "    </tr>\n",
       "    <tr>\n",
       "      <td>4</td>\n",
       "      <td>U001</td>\n",
       "      <td>0200749782</td>\n",
       "      <td>KROG trust</td>\n",
       "      <td>2019-07-23 00:00:00</td>\n",
       "      <td>2019.0</td>\n",
       "      <td>1.929587e+09</td>\n",
       "      <td>2019-07-08</td>\n",
       "      <td>20190708</td>\n",
       "      <td>20190708</td>\n",
       "      <td>20190723.0</td>\n",
       "      <td>USD</td>\n",
       "      <td>RV</td>\n",
       "      <td>12417.30</td>\n",
       "      <td>20190708.0</td>\n",
       "      <td>NAA8</td>\n",
       "    </tr>\n",
       "  </tbody>\n",
       "</table>\n",
       "</div>"
      ],
      "text/plain": [
       "  business_code cust_number       name_customer           clear_date  \\\n",
       "0          U001  0100030443   GLACIE foundation  2019-11-15 00:00:00   \n",
       "1          U001   200744019     TARG foundation  2019-07-12 00:00:00   \n",
       "2          U001  0200769623        WAL-MAR corp  2019-11-19 00:00:00   \n",
       "3          U001  0200769623  WAL-MAR associates  2019-10-28 00:00:00   \n",
       "4          U001  0200749782          KROG trust  2019-07-23 00:00:00   \n",
       "\n",
       "   buisness_year        doc_id posting_date  document_create_date  \\\n",
       "0         2019.0  1.930048e+09   2019-10-23              20191023   \n",
       "1         2019.0  1.929541e+09   2019-06-25              20190625   \n",
       "2         2019.0  1.930131e+09   2019-11-09              20191108   \n",
       "3         2019.0  1.930016e+09   2019-10-16              20191015   \n",
       "4         2019.0  1.929587e+09   2019-07-08              20190708   \n",
       "\n",
       "   document_create_date.1  due_in_date invoice_currency document type  \\\n",
       "0                20191023   20191107.0              USD            RV   \n",
       "1                20190625   20190710.0              USD            RV   \n",
       "2                20191109   20191124.0              USD            RV   \n",
       "3                20191016   20191031.0              USD            RV   \n",
       "4                20190708   20190723.0              USD            RV   \n",
       "\n",
       "   total_open_amount  baseline_create_date cust_payment_terms  \n",
       "0             925.27            20191023.0               NAA8  \n",
       "1          132548.21            20190625.0               NAA8  \n",
       "2           69755.72            20191109.0               NAH4  \n",
       "3           56248.33            20191016.0               NAH4  \n",
       "4           12417.30            20190708.0               NAA8  "
      ]
     },
     "execution_count": 13,
     "metadata": {},
     "output_type": "execute_result"
    }
   ],
   "source": [
    "final_train.head()"
   ]
  },
  {
   "cell_type": "code",
   "execution_count": 14,
   "metadata": {},
   "outputs": [
    {
     "data": {
      "text/plain": [
       "business_code                 5\n",
       "cust_number                1342\n",
       "name_customer              3913\n",
       "clear_date                  392\n",
       "buisness_year                 2\n",
       "doc_id                    39180\n",
       "posting_date                424\n",
       "document_create_date        428\n",
       "document_create_date.1      425\n",
       "due_in_date                 492\n",
       "invoice_currency              2\n",
       "document type                 2\n",
       "total_open_amount         35674\n",
       "baseline_create_date        435\n",
       "cust_payment_terms           71\n",
       "dtype: int64"
      ]
     },
     "execution_count": 14,
     "metadata": {},
     "output_type": "execute_result"
    }
   ],
   "source": [
    "#nunique() function return number of unique elements in the object\n",
    "final_train.nunique()"
   ]
  },
  {
   "cell_type": "code",
   "execution_count": 15,
   "metadata": {},
   "outputs": [
    {
     "data": {
      "text/plain": [
       "True     39999\n",
       "False        1\n",
       "Name: document_create_date.1, dtype: int64"
      ]
     },
     "execution_count": 15,
     "metadata": {},
     "output_type": "execute_result"
    }
   ],
   "source": [
    "final_train['document_create_date.1'].isin(final_train['document_create_date']).value_counts()"
   ]
  },
  {
   "cell_type": "code",
   "execution_count": 16,
   "metadata": {},
   "outputs": [],
   "source": [
    "#therefor drop documentcreatedate1.\n",
    "del final_train['document_create_date.1']"
   ]
  },
  {
   "cell_type": "markdown",
   "metadata": {},
   "source": [
    "### Converting dates in datetime formate to obtain delay"
   ]
  },
  {
   "cell_type": "code",
   "execution_count": 17,
   "metadata": {},
   "outputs": [],
   "source": [
    "final_train['clear_date']=pd.to_datetime(final_train['clear_date'],format='%Y-%m-%d')\n",
    "final_train['buisness_year']=pd.to_datetime(final_train['buisness_year'],format='%Y')\n",
    "final_train['posting_date']=pd.to_datetime(final_train['posting_date'],format='%Y-%m-%d')\n",
    "final_train['document_create_date']=pd.to_datetime(final_train['document_create_date'],format='%Y%m%d')\n",
    "##final_train['document_create_date.1']=pd.to_datetime(final_train.'document_create_date.1')\n",
    "final_train['due_in_date']=pd.to_datetime(final_train['due_in_date'],format='%Y%m%d')\n",
    "final_train['baseline_create_date']=pd.to_datetime(final_train['baseline_create_date'],format='%Y%m%d')"
   ]
  },
  {
   "cell_type": "code",
   "execution_count": 18,
   "metadata": {},
   "outputs": [],
   "source": [
    "final_train.buisness_year = final_train['buisness_year'].dt.year"
   ]
  },
  {
   "cell_type": "markdown",
   "metadata": {},
   "source": [
    "### Creating The delay column for the pridiction"
   ]
  },
  {
   "cell_type": "code",
   "execution_count": 19,
   "metadata": {},
   "outputs": [],
   "source": [
    "#delay=pd.Series(data3['clear_date']-data3['due_in_date'])\n",
    "#data3.insert(-1,'delay',delay)\n",
    "\n",
    "final_train['delay'] = final_train['clear_date']-final_train['due_in_date']"
   ]
  },
  {
   "cell_type": "code",
   "execution_count": 20,
   "metadata": {},
   "outputs": [],
   "source": [
    "final_train['delay']=final_train['delay'].dt.days"
   ]
  },
  {
   "cell_type": "code",
   "execution_count": 21,
   "metadata": {},
   "outputs": [
    {
     "data": {
      "text/html": [
       "<div>\n",
       "<style scoped>\n",
       "    .dataframe tbody tr th:only-of-type {\n",
       "        vertical-align: middle;\n",
       "    }\n",
       "\n",
       "    .dataframe tbody tr th {\n",
       "        vertical-align: top;\n",
       "    }\n",
       "\n",
       "    .dataframe thead th {\n",
       "        text-align: right;\n",
       "    }\n",
       "</style>\n",
       "<table border=\"1\" class=\"dataframe\">\n",
       "  <thead>\n",
       "    <tr style=\"text-align: right;\">\n",
       "      <th></th>\n",
       "      <th>business_code</th>\n",
       "      <th>cust_number</th>\n",
       "      <th>name_customer</th>\n",
       "      <th>clear_date</th>\n",
       "      <th>buisness_year</th>\n",
       "      <th>doc_id</th>\n",
       "      <th>posting_date</th>\n",
       "      <th>document_create_date</th>\n",
       "      <th>due_in_date</th>\n",
       "      <th>invoice_currency</th>\n",
       "      <th>document type</th>\n",
       "      <th>total_open_amount</th>\n",
       "      <th>baseline_create_date</th>\n",
       "      <th>cust_payment_terms</th>\n",
       "      <th>delay</th>\n",
       "    </tr>\n",
       "  </thead>\n",
       "  <tbody>\n",
       "    <tr>\n",
       "      <td>0</td>\n",
       "      <td>U001</td>\n",
       "      <td>0100030443</td>\n",
       "      <td>GLACIE foundation</td>\n",
       "      <td>2019-11-15</td>\n",
       "      <td>2019</td>\n",
       "      <td>1.930048e+09</td>\n",
       "      <td>2019-10-23</td>\n",
       "      <td>2019-10-23</td>\n",
       "      <td>2019-11-07</td>\n",
       "      <td>USD</td>\n",
       "      <td>RV</td>\n",
       "      <td>925.27</td>\n",
       "      <td>2019-10-23</td>\n",
       "      <td>NAA8</td>\n",
       "      <td>8</td>\n",
       "    </tr>\n",
       "    <tr>\n",
       "      <td>1</td>\n",
       "      <td>U001</td>\n",
       "      <td>200744019</td>\n",
       "      <td>TARG foundation</td>\n",
       "      <td>2019-07-12</td>\n",
       "      <td>2019</td>\n",
       "      <td>1.929541e+09</td>\n",
       "      <td>2019-06-25</td>\n",
       "      <td>2019-06-25</td>\n",
       "      <td>2019-07-10</td>\n",
       "      <td>USD</td>\n",
       "      <td>RV</td>\n",
       "      <td>132548.21</td>\n",
       "      <td>2019-06-25</td>\n",
       "      <td>NAA8</td>\n",
       "      <td>2</td>\n",
       "    </tr>\n",
       "    <tr>\n",
       "      <td>2</td>\n",
       "      <td>U001</td>\n",
       "      <td>0200769623</td>\n",
       "      <td>WAL-MAR corp</td>\n",
       "      <td>2019-11-19</td>\n",
       "      <td>2019</td>\n",
       "      <td>1.930131e+09</td>\n",
       "      <td>2019-11-09</td>\n",
       "      <td>2019-11-08</td>\n",
       "      <td>2019-11-24</td>\n",
       "      <td>USD</td>\n",
       "      <td>RV</td>\n",
       "      <td>69755.72</td>\n",
       "      <td>2019-11-09</td>\n",
       "      <td>NAH4</td>\n",
       "      <td>-5</td>\n",
       "    </tr>\n",
       "    <tr>\n",
       "      <td>3</td>\n",
       "      <td>U001</td>\n",
       "      <td>0200769623</td>\n",
       "      <td>WAL-MAR associates</td>\n",
       "      <td>2019-10-28</td>\n",
       "      <td>2019</td>\n",
       "      <td>1.930016e+09</td>\n",
       "      <td>2019-10-16</td>\n",
       "      <td>2019-10-15</td>\n",
       "      <td>2019-10-31</td>\n",
       "      <td>USD</td>\n",
       "      <td>RV</td>\n",
       "      <td>56248.33</td>\n",
       "      <td>2019-10-16</td>\n",
       "      <td>NAH4</td>\n",
       "      <td>-3</td>\n",
       "    </tr>\n",
       "    <tr>\n",
       "      <td>4</td>\n",
       "      <td>U001</td>\n",
       "      <td>0200749782</td>\n",
       "      <td>KROG trust</td>\n",
       "      <td>2019-07-23</td>\n",
       "      <td>2019</td>\n",
       "      <td>1.929587e+09</td>\n",
       "      <td>2019-07-08</td>\n",
       "      <td>2019-07-08</td>\n",
       "      <td>2019-07-23</td>\n",
       "      <td>USD</td>\n",
       "      <td>RV</td>\n",
       "      <td>12417.30</td>\n",
       "      <td>2019-07-08</td>\n",
       "      <td>NAA8</td>\n",
       "      <td>0</td>\n",
       "    </tr>\n",
       "  </tbody>\n",
       "</table>\n",
       "</div>"
      ],
      "text/plain": [
       "  business_code cust_number       name_customer clear_date  buisness_year  \\\n",
       "0          U001  0100030443   GLACIE foundation 2019-11-15           2019   \n",
       "1          U001   200744019     TARG foundation 2019-07-12           2019   \n",
       "2          U001  0200769623        WAL-MAR corp 2019-11-19           2019   \n",
       "3          U001  0200769623  WAL-MAR associates 2019-10-28           2019   \n",
       "4          U001  0200749782          KROG trust 2019-07-23           2019   \n",
       "\n",
       "         doc_id posting_date document_create_date due_in_date  \\\n",
       "0  1.930048e+09   2019-10-23           2019-10-23  2019-11-07   \n",
       "1  1.929541e+09   2019-06-25           2019-06-25  2019-07-10   \n",
       "2  1.930131e+09   2019-11-09           2019-11-08  2019-11-24   \n",
       "3  1.930016e+09   2019-10-16           2019-10-15  2019-10-31   \n",
       "4  1.929587e+09   2019-07-08           2019-07-08  2019-07-23   \n",
       "\n",
       "  invoice_currency document type  total_open_amount baseline_create_date  \\\n",
       "0              USD            RV             925.27           2019-10-23   \n",
       "1              USD            RV          132548.21           2019-06-25   \n",
       "2              USD            RV           69755.72           2019-11-09   \n",
       "3              USD            RV           56248.33           2019-10-16   \n",
       "4              USD            RV           12417.30           2019-07-08   \n",
       "\n",
       "  cust_payment_terms  delay  \n",
       "0               NAA8      8  \n",
       "1               NAA8      2  \n",
       "2               NAH4     -5  \n",
       "3               NAH4     -3  \n",
       "4               NAA8      0  "
      ]
     },
     "execution_count": 21,
     "metadata": {},
     "output_type": "execute_result"
    }
   ],
   "source": [
    "final_train.head()"
   ]
  },
  {
   "cell_type": "code",
   "execution_count": 22,
   "metadata": {},
   "outputs": [
    {
     "data": {
      "text/plain": [
       "business_code                   object\n",
       "cust_number                     object\n",
       "name_customer                   object\n",
       "clear_date              datetime64[ns]\n",
       "buisness_year                    int64\n",
       "doc_id                         float64\n",
       "posting_date            datetime64[ns]\n",
       "document_create_date    datetime64[ns]\n",
       "due_in_date             datetime64[ns]\n",
       "invoice_currency                object\n",
       "document type                   object\n",
       "total_open_amount              float64\n",
       "baseline_create_date    datetime64[ns]\n",
       "cust_payment_terms              object\n",
       "delay                            int64\n",
       "dtype: object"
      ]
     },
     "execution_count": 22,
     "metadata": {},
     "output_type": "execute_result"
    }
   ],
   "source": [
    "final_train.dtypes"
   ]
  },
  {
   "cell_type": "code",
   "execution_count": 23,
   "metadata": {},
   "outputs": [],
   "source": [
    "#sorting data in asscending oder \n",
    "final_train=final_train.sort_values(by=['posting_date'])"
   ]
  },
  {
   "cell_type": "markdown",
   "metadata": {},
   "source": [
    "### Outlier detection and removal"
   ]
  },
  {
   "cell_type": "code",
   "execution_count": 24,
   "metadata": {},
   "outputs": [
    {
     "data": {
      "text/plain": [
       "(18.51, 315614.5534300018)"
      ]
     },
     "execution_count": 24,
     "metadata": {},
     "output_type": "execute_result"
    }
   ],
   "source": [
    "#getting the outliers for total_open_amount\n",
    "min_thresold, max_thresold = final_train.total_open_amount.quantile([0.001, 0.999])\n",
    "min_thresold, max_thresold"
   ]
  },
  {
   "cell_type": "code",
   "execution_count": 25,
   "metadata": {},
   "outputs": [
    {
     "data": {
      "text/plain": [
       "(39918, 15)"
      ]
     },
     "execution_count": 25,
     "metadata": {},
     "output_type": "execute_result"
    }
   ],
   "source": [
    "final_train= final_train[(final_train.total_open_amount<max_thresold) & (final_train.total_open_amount>min_thresold)]\n",
    "final_train.shape"
   ]
  },
  {
   "cell_type": "code",
   "execution_count": 26,
   "metadata": {},
   "outputs": [
    {
     "data": {
      "text/plain": [
       "(-53.0, 93.16600000001199)"
      ]
     },
     "execution_count": 26,
     "metadata": {},
     "output_type": "execute_result"
    }
   ],
   "source": [
    "#getting the outliers for delay\n",
    "min_thresold, max_thresold = final_train.delay.quantile([0.001, 0.999])\n",
    "min_thresold, max_thresold"
   ]
  },
  {
   "cell_type": "code",
   "execution_count": 27,
   "metadata": {},
   "outputs": [
    {
     "data": {
      "text/plain": [
       "(39837, 15)"
      ]
     },
     "execution_count": 27,
     "metadata": {},
     "output_type": "execute_result"
    }
   ],
   "source": [
    "final_train= final_train[(final_train.delay<max_thresold) & (final_train.delay>min_thresold)]\n",
    "final_train.shape"
   ]
  },
  {
   "cell_type": "code",
   "execution_count": 28,
   "metadata": {},
   "outputs": [
    {
     "data": {
      "text/plain": [
       "(Timestamp('2018-12-30 00:00:00'), Timestamp('2020-02-26 00:00:00'))"
      ]
     },
     "execution_count": 28,
     "metadata": {},
     "output_type": "execute_result"
    }
   ],
   "source": [
    "#getting the outliers for posting_date\n",
    "min_thresold, max_thresold = final_train.posting_date.quantile([0.001, 0.999])\n",
    "min_thresold, max_thresold"
   ]
  },
  {
   "cell_type": "code",
   "execution_count": 29,
   "metadata": {},
   "outputs": [
    {
     "data": {
      "text/plain": [
       "(39651, 15)"
      ]
     },
     "execution_count": 29,
     "metadata": {},
     "output_type": "execute_result"
    }
   ],
   "source": [
    "final_train= final_train[(final_train.posting_date<max_thresold) & (final_train.posting_date>min_thresold)]\n",
    "final_train.shape"
   ]
  },
  {
   "cell_type": "code",
   "execution_count": 30,
   "metadata": {},
   "outputs": [
    {
     "data": {
      "text/plain": [
       "(Timestamp('2019-01-11 00:00:00'), Timestamp('2020-04-24 08:24:00.000000512'))"
      ]
     },
     "execution_count": 30,
     "metadata": {},
     "output_type": "execute_result"
    }
   ],
   "source": [
    "#Outliers for due_in_date\n",
    "min_thresold, max_thresold = final_train.due_in_date.quantile([0.001, 0.999])\n",
    "min_thresold, max_thresold"
   ]
  },
  {
   "cell_type": "code",
   "execution_count": 31,
   "metadata": {},
   "outputs": [
    {
     "data": {
      "text/plain": [
       "(39568, 15)"
      ]
     },
     "execution_count": 31,
     "metadata": {},
     "output_type": "execute_result"
    }
   ],
   "source": [
    "final_train= final_train[(final_train.due_in_date<max_thresold) & (final_train.due_in_date>min_thresold)]\n",
    "final_train.shape"
   ]
  },
  {
   "cell_type": "code",
   "execution_count": 32,
   "metadata": {},
   "outputs": [
    {
     "data": {
      "text/plain": [
       "(1928540096.268, 2960615304.0)"
      ]
     },
     "execution_count": 32,
     "metadata": {},
     "output_type": "execute_result"
    }
   ],
   "source": [
    "#outliers for doc_id\n",
    "min_thresold, max_thresold = final_train.doc_id.quantile([0.001, 0.999])\n",
    "min_thresold, max_thresold"
   ]
  },
  {
   "cell_type": "code",
   "execution_count": 33,
   "metadata": {},
   "outputs": [
    {
     "data": {
      "text/plain": [
       "(39487, 15)"
      ]
     },
     "execution_count": 33,
     "metadata": {},
     "output_type": "execute_result"
    }
   ],
   "source": [
    "final_train= final_train[(final_train.doc_id<max_thresold) & (final_train.doc_id>min_thresold)]\n",
    "final_train.shape"
   ]
  },
  {
   "cell_type": "markdown",
   "metadata": {},
   "source": [
    "### Spliting final_train into Train/Test/Validation"
   ]
  },
  {
   "cell_type": "code",
   "execution_count": 34,
   "metadata": {},
   "outputs": [],
   "source": [
    "# Converting the main_train into X and y so that we can pass it onto train_test_split function\n",
    "\n",
    "# ind --> contains the dataframe without the target i.e delay which are the independent varibles\n",
    "final_train1=final_train\n",
    "ind = final_train.drop('delay',axis=1)\n",
    "\n",
    "# dep --> contains only the target value \n",
    "dep = final_train['delay']"
   ]
  },
  {
   "cell_type": "code",
   "execution_count": 35,
   "metadata": {},
   "outputs": [
    {
     "data": {
      "text/html": [
       "<div>\n",
       "<style scoped>\n",
       "    .dataframe tbody tr th:only-of-type {\n",
       "        vertical-align: middle;\n",
       "    }\n",
       "\n",
       "    .dataframe tbody tr th {\n",
       "        vertical-align: top;\n",
       "    }\n",
       "\n",
       "    .dataframe thead th {\n",
       "        text-align: right;\n",
       "    }\n",
       "</style>\n",
       "<table border=\"1\" class=\"dataframe\">\n",
       "  <thead>\n",
       "    <tr style=\"text-align: right;\">\n",
       "      <th></th>\n",
       "      <th>business_code</th>\n",
       "      <th>cust_number</th>\n",
       "      <th>name_customer</th>\n",
       "      <th>clear_date</th>\n",
       "      <th>buisness_year</th>\n",
       "      <th>doc_id</th>\n",
       "      <th>posting_date</th>\n",
       "      <th>document_create_date</th>\n",
       "      <th>due_in_date</th>\n",
       "      <th>invoice_currency</th>\n",
       "      <th>document type</th>\n",
       "      <th>total_open_amount</th>\n",
       "      <th>baseline_create_date</th>\n",
       "      <th>cust_payment_terms</th>\n",
       "    </tr>\n",
       "  </thead>\n",
       "  <tbody>\n",
       "    <tr>\n",
       "      <td>31785</td>\n",
       "      <td>U001</td>\n",
       "      <td>0200799367</td>\n",
       "      <td>MCL</td>\n",
       "      <td>2019-01-15</td>\n",
       "      <td>2019</td>\n",
       "      <td>1.928543e+09</td>\n",
       "      <td>2018-12-31</td>\n",
       "      <td>2018-12-30</td>\n",
       "      <td>2019-01-15</td>\n",
       "      <td>USD</td>\n",
       "      <td>RV</td>\n",
       "      <td>99976.50</td>\n",
       "      <td>2018-12-31</td>\n",
       "      <td>NAA8</td>\n",
       "    </tr>\n",
       "    <tr>\n",
       "      <td>13353</td>\n",
       "      <td>U001</td>\n",
       "      <td>0200769623</td>\n",
       "      <td>WAL-MAR us</td>\n",
       "      <td>2019-01-11</td>\n",
       "      <td>2019</td>\n",
       "      <td>1.928545e+09</td>\n",
       "      <td>2018-12-31</td>\n",
       "      <td>2018-12-30</td>\n",
       "      <td>2019-01-15</td>\n",
       "      <td>USD</td>\n",
       "      <td>RV</td>\n",
       "      <td>133.64</td>\n",
       "      <td>2018-12-31</td>\n",
       "      <td>NAH4</td>\n",
       "    </tr>\n",
       "    <tr>\n",
       "      <td>8460</td>\n",
       "      <td>U001</td>\n",
       "      <td>0200769623</td>\n",
       "      <td>WAL-MAR llc</td>\n",
       "      <td>2019-01-22</td>\n",
       "      <td>2019</td>\n",
       "      <td>1.928545e+09</td>\n",
       "      <td>2018-12-31</td>\n",
       "      <td>2018-12-30</td>\n",
       "      <td>2019-01-15</td>\n",
       "      <td>USD</td>\n",
       "      <td>RV</td>\n",
       "      <td>6392.40</td>\n",
       "      <td>2018-12-31</td>\n",
       "      <td>NAH4</td>\n",
       "    </tr>\n",
       "    <tr>\n",
       "      <td>9916</td>\n",
       "      <td>U001</td>\n",
       "      <td>0200735528</td>\n",
       "      <td>ASSOCIA corporation</td>\n",
       "      <td>2019-01-16</td>\n",
       "      <td>2019</td>\n",
       "      <td>1.928540e+09</td>\n",
       "      <td>2018-12-31</td>\n",
       "      <td>2018-12-29</td>\n",
       "      <td>2019-01-15</td>\n",
       "      <td>USD</td>\n",
       "      <td>RV</td>\n",
       "      <td>26775.60</td>\n",
       "      <td>2018-12-31</td>\n",
       "      <td>NAA8</td>\n",
       "    </tr>\n",
       "    <tr>\n",
       "      <td>8965</td>\n",
       "      <td>U001</td>\n",
       "      <td>0200744019</td>\n",
       "      <td>TARG in</td>\n",
       "      <td>2019-01-22</td>\n",
       "      <td>2019</td>\n",
       "      <td>1.928543e+09</td>\n",
       "      <td>2018-12-31</td>\n",
       "      <td>2018-12-30</td>\n",
       "      <td>2019-01-15</td>\n",
       "      <td>USD</td>\n",
       "      <td>RV</td>\n",
       "      <td>784.00</td>\n",
       "      <td>2018-12-31</td>\n",
       "      <td>NAA8</td>\n",
       "    </tr>\n",
       "  </tbody>\n",
       "</table>\n",
       "</div>"
      ],
      "text/plain": [
       "      business_code cust_number        name_customer clear_date  \\\n",
       "31785          U001  0200799367                 MCL  2019-01-15   \n",
       "13353          U001  0200769623           WAL-MAR us 2019-01-11   \n",
       "8460           U001  0200769623          WAL-MAR llc 2019-01-22   \n",
       "9916           U001  0200735528  ASSOCIA corporation 2019-01-16   \n",
       "8965           U001  0200744019              TARG in 2019-01-22   \n",
       "\n",
       "       buisness_year        doc_id posting_date document_create_date  \\\n",
       "31785           2019  1.928543e+09   2018-12-31           2018-12-30   \n",
       "13353           2019  1.928545e+09   2018-12-31           2018-12-30   \n",
       "8460            2019  1.928545e+09   2018-12-31           2018-12-30   \n",
       "9916            2019  1.928540e+09   2018-12-31           2018-12-29   \n",
       "8965            2019  1.928543e+09   2018-12-31           2018-12-30   \n",
       "\n",
       "      due_in_date invoice_currency document type  total_open_amount  \\\n",
       "31785  2019-01-15              USD            RV           99976.50   \n",
       "13353  2019-01-15              USD            RV             133.64   \n",
       "8460   2019-01-15              USD            RV            6392.40   \n",
       "9916   2019-01-15              USD            RV           26775.60   \n",
       "8965   2019-01-15              USD            RV             784.00   \n",
       "\n",
       "      baseline_create_date cust_payment_terms  \n",
       "31785           2018-12-31               NAA8  \n",
       "13353           2018-12-31               NAH4  \n",
       "8460            2018-12-31               NAH4  \n",
       "9916            2018-12-31               NAA8  \n",
       "8965            2018-12-31               NAA8  "
      ]
     },
     "execution_count": 35,
     "metadata": {},
     "output_type": "execute_result"
    }
   ],
   "source": [
    "ind.head()"
   ]
  },
  {
   "cell_type": "code",
   "execution_count": 36,
   "metadata": {},
   "outputs": [
    {
     "data": {
      "text/plain": [
       "31785    0\n",
       "13353   -4\n",
       "8460     7\n",
       "9916     1\n",
       "8965     7\n",
       "Name: delay, dtype: int64"
      ]
     },
     "execution_count": 36,
     "metadata": {},
     "output_type": "execute_result"
    }
   ],
   "source": [
    "dep.head()"
   ]
  },
  {
   "cell_type": "code",
   "execution_count": 37,
   "metadata": {},
   "outputs": [],
   "source": [
    "#x_train on column y_train and x_data1 on y_data1\n",
    "#x_train with y_train and x_data1with y_data1\n",
    "x_train,x_data1,y_train,y_data1=train_test_split(ind,dep,test_size=0.2)#between 80% and 20%\n",
    "x_valid,x_test,y_valid,y_test=train_test_split(x_data1,y_data1,test_size=0.5) #50-50"
   ]
  },
  {
   "cell_type": "code",
   "execution_count": 38,
   "metadata": {},
   "outputs": [
    {
     "data": {
      "text/plain": [
       "((31589, 14), (3949, 14), (3949, 14))"
      ]
     },
     "execution_count": 38,
     "metadata": {},
     "output_type": "execute_result"
    }
   ],
   "source": [
    "x_train.shape , x_valid.shape , x_test.shape"
   ]
  },
  {
   "cell_type": "markdown",
   "metadata": {},
   "source": [
    "## Exploratory Data Analysis"
   ]
  },
  {
   "cell_type": "code",
   "execution_count": 39,
   "metadata": {},
   "outputs": [
    {
     "data": {
      "text/plain": [
       "dtype('int64')"
      ]
     },
     "execution_count": 39,
     "metadata": {},
     "output_type": "execute_result"
    }
   ],
   "source": [
    "y_train.dtypes"
   ]
  },
  {
   "cell_type": "code",
   "execution_count": 40,
   "metadata": {},
   "outputs": [],
   "source": [
    "#y_train['delay'] = y_train['delay'].dt.days.astype('int16')"
   ]
  },
  {
   "cell_type": "code",
   "execution_count": 41,
   "metadata": {},
   "outputs": [
    {
     "data": {
      "text/plain": [
       "<matplotlib.axes._subplots.AxesSubplot at 0x2a341d57188>"
      ]
     },
     "execution_count": 41,
     "metadata": {},
     "output_type": "execute_result"
    },
    {
     "data": {
      "image/png": "[encoded data removed]",
      "text/plain": [
       "<Figure size 432x288 with 1 Axes>"
      ]
     },
     "metadata": {
      "needs_background": "light"
     },
     "output_type": "display_data"
    }
   ],
   "source": [
    "# distribution of the target column \n",
    "# right skewed distribution\n",
    "# outliers present but not that significant , hence  \n",
    "sns.distplot(y_train)"
   ]
  },
  {
   "cell_type": "code",
   "execution_count": 42,
   "metadata": {},
   "outputs": [
    {
     "data": {
      "text/html": [
       "<div>\n",
       "<style scoped>\n",
       "    .dataframe tbody tr th:only-of-type {\n",
       "        vertical-align: middle;\n",
       "    }\n",
       "\n",
       "    .dataframe tbody tr th {\n",
       "        vertical-align: top;\n",
       "    }\n",
       "\n",
       "    .dataframe thead th {\n",
       "        text-align: right;\n",
       "    }\n",
       "</style>\n",
       "<table border=\"1\" class=\"dataframe\">\n",
       "  <thead>\n",
       "    <tr style=\"text-align: right;\">\n",
       "      <th></th>\n",
       "      <th>key_0</th>\n",
       "      <th>business_code</th>\n",
       "      <th>cust_number</th>\n",
       "      <th>name_customer</th>\n",
       "      <th>clear_date</th>\n",
       "      <th>buisness_year</th>\n",
       "      <th>doc_id</th>\n",
       "      <th>posting_date</th>\n",
       "      <th>document_create_date</th>\n",
       "      <th>due_in_date</th>\n",
       "      <th>invoice_currency</th>\n",
       "      <th>document type</th>\n",
       "      <th>total_open_amount</th>\n",
       "      <th>baseline_create_date</th>\n",
       "      <th>cust_payment_terms</th>\n",
       "      <th>delay</th>\n",
       "    </tr>\n",
       "  </thead>\n",
       "  <tbody>\n",
       "    <tr>\n",
       "      <td>0</td>\n",
       "      <td>4821</td>\n",
       "      <td>U001</td>\n",
       "      <td>0200048886</td>\n",
       "      <td>SHERWO co</td>\n",
       "      <td>2019-09-05</td>\n",
       "      <td>2019</td>\n",
       "      <td>1.929766e+09</td>\n",
       "      <td>2019-08-20</td>\n",
       "      <td>2019-08-20</td>\n",
       "      <td>2019-09-04</td>\n",
       "      <td>USD</td>\n",
       "      <td>RV</td>\n",
       "      <td>64735.62</td>\n",
       "      <td>2019-08-20</td>\n",
       "      <td>NAA8</td>\n",
       "      <td>1</td>\n",
       "    </tr>\n",
       "    <tr>\n",
       "      <td>1</td>\n",
       "      <td>34175</td>\n",
       "      <td>U001</td>\n",
       "      <td>0200741174</td>\n",
       "      <td>M B  foundation</td>\n",
       "      <td>2019-10-16</td>\n",
       "      <td>2019</td>\n",
       "      <td>1.929933e+09</td>\n",
       "      <td>2019-09-27</td>\n",
       "      <td>2019-09-26</td>\n",
       "      <td>2019-10-12</td>\n",
       "      <td>USD</td>\n",
       "      <td>RV</td>\n",
       "      <td>23608.63</td>\n",
       "      <td>2019-09-27</td>\n",
       "      <td>NAA8</td>\n",
       "      <td>4</td>\n",
       "    </tr>\n",
       "    <tr>\n",
       "      <td>2</td>\n",
       "      <td>1353</td>\n",
       "      <td>U001</td>\n",
       "      <td>0200943275</td>\n",
       "      <td>US</td>\n",
       "      <td>2019-12-23</td>\n",
       "      <td>2019</td>\n",
       "      <td>1.930167e+09</td>\n",
       "      <td>2019-11-18</td>\n",
       "      <td>2019-11-18</td>\n",
       "      <td>2019-12-20</td>\n",
       "      <td>USD</td>\n",
       "      <td>RV</td>\n",
       "      <td>38060.15</td>\n",
       "      <td>2019-11-18</td>\n",
       "      <td>NA32</td>\n",
       "      <td>3</td>\n",
       "    </tr>\n",
       "    <tr>\n",
       "      <td>3</td>\n",
       "      <td>36432</td>\n",
       "      <td>U001</td>\n",
       "      <td>0200704858</td>\n",
       "      <td>WAKE us</td>\n",
       "      <td>2019-12-11</td>\n",
       "      <td>2019</td>\n",
       "      <td>1.930043e+09</td>\n",
       "      <td>2019-10-22</td>\n",
       "      <td>2019-10-22</td>\n",
       "      <td>2019-12-01</td>\n",
       "      <td>USD</td>\n",
       "      <td>RV</td>\n",
       "      <td>2881.67</td>\n",
       "      <td>2019-10-22</td>\n",
       "      <td>NAWU</td>\n",
       "      <td>10</td>\n",
       "    </tr>\n",
       "    <tr>\n",
       "      <td>4</td>\n",
       "      <td>31784</td>\n",
       "      <td>U001</td>\n",
       "      <td>200792734</td>\n",
       "      <td>MDV/ in</td>\n",
       "      <td>2019-07-26</td>\n",
       "      <td>2019</td>\n",
       "      <td>1.929563e+09</td>\n",
       "      <td>2019-07-01</td>\n",
       "      <td>2019-07-01</td>\n",
       "      <td>2019-07-16</td>\n",
       "      <td>USD</td>\n",
       "      <td>RV</td>\n",
       "      <td>80065.95</td>\n",
       "      <td>2019-07-01</td>\n",
       "      <td>NAA8</td>\n",
       "      <td>10</td>\n",
       "    </tr>\n",
       "  </tbody>\n",
       "</table>\n",
       "</div>"
      ],
      "text/plain": [
       "   key_0 business_code cust_number    name_customer clear_date  buisness_year  \\\n",
       "0   4821          U001  0200048886        SHERWO co 2019-09-05           2019   \n",
       "1  34175          U001  0200741174  M B  foundation 2019-10-16           2019   \n",
       "2   1353          U001  0200943275             US   2019-12-23           2019   \n",
       "3  36432          U001  0200704858          WAKE us 2019-12-11           2019   \n",
       "4  31784          U001   200792734          MDV/ in 2019-07-26           2019   \n",
       "\n",
       "         doc_id posting_date document_create_date due_in_date  \\\n",
       "0  1.929766e+09   2019-08-20           2019-08-20  2019-09-04   \n",
       "1  1.929933e+09   2019-09-27           2019-09-26  2019-10-12   \n",
       "2  1.930167e+09   2019-11-18           2019-11-18  2019-12-20   \n",
       "3  1.930043e+09   2019-10-22           2019-10-22  2019-12-01   \n",
       "4  1.929563e+09   2019-07-01           2019-07-01  2019-07-16   \n",
       "\n",
       "  invoice_currency document type  total_open_amount baseline_create_date  \\\n",
       "0              USD            RV           64735.62           2019-08-20   \n",
       "1              USD            RV           23608.63           2019-09-27   \n",
       "2              USD            RV           38060.15           2019-11-18   \n",
       "3              USD            RV            2881.67           2019-10-22   \n",
       "4              USD            RV           80065.95           2019-07-01   \n",
       "\n",
       "  cust_payment_terms  delay  \n",
       "0               NAA8      1  \n",
       "1               NAA8      4  \n",
       "2               NA32      3  \n",
       "3               NAWU     10  \n",
       "4               NAA8     10  "
      ]
     },
     "execution_count": 42,
     "metadata": {},
     "output_type": "execute_result"
    }
   ],
   "source": [
    "x_train.merge(y_train,on = x_train.index).head()"
   ]
  },
  {
   "cell_type": "code",
   "execution_count": 43,
   "metadata": {},
   "outputs": [
    {
     "data": {
      "text/plain": [
       "business_code               5\n",
       "cust_number              1226\n",
       "name_customer            3506\n",
       "clear_date                377\n",
       "buisness_year               2\n",
       "doc_id                  31083\n",
       "posting_date              421\n",
       "document_create_date      426\n",
       "due_in_date               469\n",
       "invoice_currency            2\n",
       "document type               1\n",
       "total_open_amount       28488\n",
       "baseline_create_date      425\n",
       "cust_payment_terms         66\n",
       "dtype: int64"
      ]
     },
     "execution_count": 43,
     "metadata": {},
     "output_type": "execute_result"
    }
   ],
   "source": [
    "x_train.nunique()"
   ]
  },
  {
   "cell_type": "code",
   "execution_count": 44,
   "metadata": {},
   "outputs": [
    {
     "data": {
      "text/plain": [
       "<matplotlib.axes._subplots.AxesSubplot at 0x2a341f9c148>"
      ]
     },
     "execution_count": 44,
     "metadata": {},
     "output_type": "execute_result"
    },
    {
     "data": {
      "image/png": "[encoded data removed]",
      "text/plain": [
       "<Figure size 432x288 with 1 Axes>"
      ]
     },
     "metadata": {
      "needs_background": "light"
     },
     "output_type": "display_data"
    }
   ],
   "source": [
    "#No direct trend for customers having delay\n",
    "sns.scatterplot(data=x_train.merge(y_train,on = x_train.index), x=\"delay\", y=\"cust_number\")"
   ]
  },
  {
   "cell_type": "code",
   "execution_count": null,
   "metadata": {},
   "outputs": [],
   "source": []
  },
  {
   "cell_type": "markdown",
   "metadata": {},
   "source": [
    "# Milestone2"
   ]
  },
  {
   "cell_type": "markdown",
   "metadata": {},
   "source": [
    "## Feature Engeeneering"
   ]
  },
  {
   "cell_type": "markdown",
   "metadata": {},
   "source": [
    "### Label Encoding"
   ]
  },
  {
   "cell_type": "code",
   "execution_count": 45,
   "metadata": {},
   "outputs": [],
   "source": [
    "x_train_f1 = x_train\n",
    "x_valid_f1 = x_valid\n",
    "x_test_f1 = x_test"
   ]
  },
  {
   "cell_type": "code",
   "execution_count": 46,
   "metadata": {},
   "outputs": [],
   "source": [
    "#Droping clear_date from the data_frame and will keep it for validation\n",
    "x_train_f1 = x_train_f1.drop(['clear_date'], axis=1)\n",
    "x_valid_f1 = x_valid_f1.drop(['clear_date'], axis=1)\n",
    "x_test_f1 = x_test_f1.drop(['clear_date'], axis=1)\n"
   ]
  },
  {
   "cell_type": "code",
   "execution_count": 47,
   "metadata": {},
   "outputs": [
    {
     "data": {
      "text/html": [
       "<div>\n",
       "<style scoped>\n",
       "    .dataframe tbody tr th:only-of-type {\n",
       "        vertical-align: middle;\n",
       "    }\n",
       "\n",
       "    .dataframe tbody tr th {\n",
       "        vertical-align: top;\n",
       "    }\n",
       "\n",
       "    .dataframe thead th {\n",
       "        text-align: right;\n",
       "    }\n",
       "</style>\n",
       "<table border=\"1\" class=\"dataframe\">\n",
       "  <thead>\n",
       "    <tr style=\"text-align: right;\">\n",
       "      <th></th>\n",
       "      <th>business_code</th>\n",
       "      <th>cust_number</th>\n",
       "      <th>name_customer</th>\n",
       "      <th>buisness_year</th>\n",
       "      <th>doc_id</th>\n",
       "      <th>posting_date</th>\n",
       "      <th>document_create_date</th>\n",
       "      <th>due_in_date</th>\n",
       "      <th>invoice_currency</th>\n",
       "      <th>document type</th>\n",
       "      <th>total_open_amount</th>\n",
       "      <th>baseline_create_date</th>\n",
       "      <th>cust_payment_terms</th>\n",
       "    </tr>\n",
       "  </thead>\n",
       "  <tbody>\n",
       "    <tr>\n",
       "      <td>4821</td>\n",
       "      <td>U001</td>\n",
       "      <td>0200048886</td>\n",
       "      <td>SHERWO co</td>\n",
       "      <td>2019</td>\n",
       "      <td>1.929766e+09</td>\n",
       "      <td>2019-08-20</td>\n",
       "      <td>2019-08-20</td>\n",
       "      <td>2019-09-04</td>\n",
       "      <td>USD</td>\n",
       "      <td>RV</td>\n",
       "      <td>64735.62</td>\n",
       "      <td>2019-08-20</td>\n",
       "      <td>NAA8</td>\n",
       "    </tr>\n",
       "    <tr>\n",
       "      <td>34175</td>\n",
       "      <td>U001</td>\n",
       "      <td>0200741174</td>\n",
       "      <td>M B  foundation</td>\n",
       "      <td>2019</td>\n",
       "      <td>1.929933e+09</td>\n",
       "      <td>2019-09-27</td>\n",
       "      <td>2019-09-26</td>\n",
       "      <td>2019-10-12</td>\n",
       "      <td>USD</td>\n",
       "      <td>RV</td>\n",
       "      <td>23608.63</td>\n",
       "      <td>2019-09-27</td>\n",
       "      <td>NAA8</td>\n",
       "    </tr>\n",
       "    <tr>\n",
       "      <td>1353</td>\n",
       "      <td>U001</td>\n",
       "      <td>0200943275</td>\n",
       "      <td>US</td>\n",
       "      <td>2019</td>\n",
       "      <td>1.930167e+09</td>\n",
       "      <td>2019-11-18</td>\n",
       "      <td>2019-11-18</td>\n",
       "      <td>2019-12-20</td>\n",
       "      <td>USD</td>\n",
       "      <td>RV</td>\n",
       "      <td>38060.15</td>\n",
       "      <td>2019-11-18</td>\n",
       "      <td>NA32</td>\n",
       "    </tr>\n",
       "    <tr>\n",
       "      <td>36432</td>\n",
       "      <td>U001</td>\n",
       "      <td>0200704858</td>\n",
       "      <td>WAKE us</td>\n",
       "      <td>2019</td>\n",
       "      <td>1.930043e+09</td>\n",
       "      <td>2019-10-22</td>\n",
       "      <td>2019-10-22</td>\n",
       "      <td>2019-12-01</td>\n",
       "      <td>USD</td>\n",
       "      <td>RV</td>\n",
       "      <td>2881.67</td>\n",
       "      <td>2019-10-22</td>\n",
       "      <td>NAWU</td>\n",
       "    </tr>\n",
       "    <tr>\n",
       "      <td>31784</td>\n",
       "      <td>U001</td>\n",
       "      <td>200792734</td>\n",
       "      <td>MDV/ in</td>\n",
       "      <td>2019</td>\n",
       "      <td>1.929563e+09</td>\n",
       "      <td>2019-07-01</td>\n",
       "      <td>2019-07-01</td>\n",
       "      <td>2019-07-16</td>\n",
       "      <td>USD</td>\n",
       "      <td>RV</td>\n",
       "      <td>80065.95</td>\n",
       "      <td>2019-07-01</td>\n",
       "      <td>NAA8</td>\n",
       "    </tr>\n",
       "  </tbody>\n",
       "</table>\n",
       "</div>"
      ],
      "text/plain": [
       "      business_code cust_number    name_customer  buisness_year        doc_id  \\\n",
       "4821           U001  0200048886        SHERWO co           2019  1.929766e+09   \n",
       "34175          U001  0200741174  M B  foundation           2019  1.929933e+09   \n",
       "1353           U001  0200943275             US             2019  1.930167e+09   \n",
       "36432          U001  0200704858          WAKE us           2019  1.930043e+09   \n",
       "31784          U001   200792734          MDV/ in           2019  1.929563e+09   \n",
       "\n",
       "      posting_date document_create_date due_in_date invoice_currency  \\\n",
       "4821    2019-08-20           2019-08-20  2019-09-04              USD   \n",
       "34175   2019-09-27           2019-09-26  2019-10-12              USD   \n",
       "1353    2019-11-18           2019-11-18  2019-12-20              USD   \n",
       "36432   2019-10-22           2019-10-22  2019-12-01              USD   \n",
       "31784   2019-07-01           2019-07-01  2019-07-16              USD   \n",
       "\n",
       "      document type  total_open_amount baseline_create_date cust_payment_terms  \n",
       "4821             RV           64735.62           2019-08-20               NAA8  \n",
       "34175            RV           23608.63           2019-09-27               NAA8  \n",
       "1353             RV           38060.15           2019-11-18               NA32  \n",
       "36432            RV            2881.67           2019-10-22               NAWU  \n",
       "31784            RV           80065.95           2019-07-01               NAA8  "
      ]
     },
     "execution_count": 47,
     "metadata": {},
     "output_type": "execute_result"
    }
   ],
   "source": [
    "x_train_f1.head()"
   ]
  },
  {
   "cell_type": "code",
   "execution_count": 48,
   "metadata": {},
   "outputs": [],
   "source": [
    "from sklearn.preprocessing import LabelEncoder\n",
    "business_code_encoder = LabelEncoder()\n",
    "business_code_encoder.fit(x_train_f1['business_code'])\n",
    "x_train_f1['business_code_enc'] = business_code_encoder.transform(x_train_f1['business_code'])"
   ]
  },
  {
   "cell_type": "code",
   "execution_count": 49,
   "metadata": {},
   "outputs": [
    {
     "data": {
      "text/html": [
       "<div>\n",
       "<style scoped>\n",
       "    .dataframe tbody tr th:only-of-type {\n",
       "        vertical-align: middle;\n",
       "    }\n",
       "\n",
       "    .dataframe tbody tr th {\n",
       "        vertical-align: top;\n",
       "    }\n",
       "\n",
       "    .dataframe thead th {\n",
       "        text-align: right;\n",
       "    }\n",
       "</style>\n",
       "<table border=\"1\" class=\"dataframe\">\n",
       "  <thead>\n",
       "    <tr style=\"text-align: right;\">\n",
       "      <th></th>\n",
       "      <th>business_code</th>\n",
       "      <th>cust_number</th>\n",
       "      <th>name_customer</th>\n",
       "      <th>buisness_year</th>\n",
       "      <th>doc_id</th>\n",
       "      <th>posting_date</th>\n",
       "      <th>document_create_date</th>\n",
       "      <th>due_in_date</th>\n",
       "      <th>invoice_currency</th>\n",
       "      <th>document type</th>\n",
       "      <th>total_open_amount</th>\n",
       "      <th>baseline_create_date</th>\n",
       "      <th>cust_payment_terms</th>\n",
       "      <th>business_code_enc</th>\n",
       "    </tr>\n",
       "  </thead>\n",
       "  <tbody>\n",
       "    <tr>\n",
       "      <td>4821</td>\n",
       "      <td>U001</td>\n",
       "      <td>0200048886</td>\n",
       "      <td>SHERWO co</td>\n",
       "      <td>2019</td>\n",
       "      <td>1.929766e+09</td>\n",
       "      <td>2019-08-20</td>\n",
       "      <td>2019-08-20</td>\n",
       "      <td>2019-09-04</td>\n",
       "      <td>USD</td>\n",
       "      <td>RV</td>\n",
       "      <td>64735.62</td>\n",
       "      <td>2019-08-20</td>\n",
       "      <td>NAA8</td>\n",
       "      <td>1</td>\n",
       "    </tr>\n",
       "    <tr>\n",
       "      <td>34175</td>\n",
       "      <td>U001</td>\n",
       "      <td>0200741174</td>\n",
       "      <td>M B  foundation</td>\n",
       "      <td>2019</td>\n",
       "      <td>1.929933e+09</td>\n",
       "      <td>2019-09-27</td>\n",
       "      <td>2019-09-26</td>\n",
       "      <td>2019-10-12</td>\n",
       "      <td>USD</td>\n",
       "      <td>RV</td>\n",
       "      <td>23608.63</td>\n",
       "      <td>2019-09-27</td>\n",
       "      <td>NAA8</td>\n",
       "      <td>1</td>\n",
       "    </tr>\n",
       "    <tr>\n",
       "      <td>1353</td>\n",
       "      <td>U001</td>\n",
       "      <td>0200943275</td>\n",
       "      <td>US</td>\n",
       "      <td>2019</td>\n",
       "      <td>1.930167e+09</td>\n",
       "      <td>2019-11-18</td>\n",
       "      <td>2019-11-18</td>\n",
       "      <td>2019-12-20</td>\n",
       "      <td>USD</td>\n",
       "      <td>RV</td>\n",
       "      <td>38060.15</td>\n",
       "      <td>2019-11-18</td>\n",
       "      <td>NA32</td>\n",
       "      <td>1</td>\n",
       "    </tr>\n",
       "    <tr>\n",
       "      <td>36432</td>\n",
       "      <td>U001</td>\n",
       "      <td>0200704858</td>\n",
       "      <td>WAKE us</td>\n",
       "      <td>2019</td>\n",
       "      <td>1.930043e+09</td>\n",
       "      <td>2019-10-22</td>\n",
       "      <td>2019-10-22</td>\n",
       "      <td>2019-12-01</td>\n",
       "      <td>USD</td>\n",
       "      <td>RV</td>\n",
       "      <td>2881.67</td>\n",
       "      <td>2019-10-22</td>\n",
       "      <td>NAWU</td>\n",
       "      <td>1</td>\n",
       "    </tr>\n",
       "    <tr>\n",
       "      <td>31784</td>\n",
       "      <td>U001</td>\n",
       "      <td>200792734</td>\n",
       "      <td>MDV/ in</td>\n",
       "      <td>2019</td>\n",
       "      <td>1.929563e+09</td>\n",
       "      <td>2019-07-01</td>\n",
       "      <td>2019-07-01</td>\n",
       "      <td>2019-07-16</td>\n",
       "      <td>USD</td>\n",
       "      <td>RV</td>\n",
       "      <td>80065.95</td>\n",
       "      <td>2019-07-01</td>\n",
       "      <td>NAA8</td>\n",
       "      <td>1</td>\n",
       "    </tr>\n",
       "  </tbody>\n",
       "</table>\n",
       "</div>"
      ],
      "text/plain": [
       "      business_code cust_number    name_customer  buisness_year        doc_id  \\\n",
       "4821           U001  0200048886        SHERWO co           2019  1.929766e+09   \n",
       "34175          U001  0200741174  M B  foundation           2019  1.929933e+09   \n",
       "1353           U001  0200943275             US             2019  1.930167e+09   \n",
       "36432          U001  0200704858          WAKE us           2019  1.930043e+09   \n",
       "31784          U001   200792734          MDV/ in           2019  1.929563e+09   \n",
       "\n",
       "      posting_date document_create_date due_in_date invoice_currency  \\\n",
       "4821    2019-08-20           2019-08-20  2019-09-04              USD   \n",
       "34175   2019-09-27           2019-09-26  2019-10-12              USD   \n",
       "1353    2019-11-18           2019-11-18  2019-12-20              USD   \n",
       "36432   2019-10-22           2019-10-22  2019-12-01              USD   \n",
       "31784   2019-07-01           2019-07-01  2019-07-16              USD   \n",
       "\n",
       "      document type  total_open_amount baseline_create_date  \\\n",
       "4821             RV           64735.62           2019-08-20   \n",
       "34175            RV           23608.63           2019-09-27   \n",
       "1353             RV           38060.15           2019-11-18   \n",
       "36432            RV            2881.67           2019-10-22   \n",
       "31784            RV           80065.95           2019-07-01   \n",
       "\n",
       "      cust_payment_terms  business_code_enc  \n",
       "4821                NAA8                  1  \n",
       "34175               NAA8                  1  \n",
       "1353                NA32                  1  \n",
       "36432               NAWU                  1  \n",
       "31784               NAA8                  1  "
      ]
     },
     "execution_count": 49,
     "metadata": {},
     "output_type": "execute_result"
    }
   ],
   "source": [
    "x_train_f1.head()"
   ]
  },
  {
   "cell_type": "code",
   "execution_count": 50,
   "metadata": {},
   "outputs": [],
   "source": [
    "business_code_encoder.fit(x_valid_f1['business_code'])\n",
    "x_valid_f1['business_code_enc'] = business_code_encoder.transform(x_valid_f1['business_code'])\n",
    "\n",
    "business_code_encoder.fit(x_test_f1['business_code'])\n",
    "x_test_f1['business_code_enc'] = business_code_encoder.transform(x_test_f1['business_code'])\n",
    "\n"
   ]
  },
  {
   "cell_type": "code",
   "execution_count": 51,
   "metadata": {},
   "outputs": [
    {
     "data": {
      "text/html": [
       "<div>\n",
       "<style scoped>\n",
       "    .dataframe tbody tr th:only-of-type {\n",
       "        vertical-align: middle;\n",
       "    }\n",
       "\n",
       "    .dataframe tbody tr th {\n",
       "        vertical-align: top;\n",
       "    }\n",
       "\n",
       "    .dataframe thead th {\n",
       "        text-align: right;\n",
       "    }\n",
       "</style>\n",
       "<table border=\"1\" class=\"dataframe\">\n",
       "  <thead>\n",
       "    <tr style=\"text-align: right;\">\n",
       "      <th></th>\n",
       "      <th>business_code</th>\n",
       "      <th>cust_number</th>\n",
       "      <th>name_customer</th>\n",
       "      <th>buisness_year</th>\n",
       "      <th>doc_id</th>\n",
       "      <th>posting_date</th>\n",
       "      <th>document_create_date</th>\n",
       "      <th>due_in_date</th>\n",
       "      <th>invoice_currency</th>\n",
       "      <th>document type</th>\n",
       "      <th>total_open_amount</th>\n",
       "      <th>baseline_create_date</th>\n",
       "      <th>cust_payment_terms</th>\n",
       "      <th>business_code_enc</th>\n",
       "    </tr>\n",
       "  </thead>\n",
       "  <tbody>\n",
       "    <tr>\n",
       "      <td>28750</td>\n",
       "      <td>U001</td>\n",
       "      <td>200762301</td>\n",
       "      <td>C&amp;S WH llc</td>\n",
       "      <td>2019</td>\n",
       "      <td>1.929077e+09</td>\n",
       "      <td>2019-04-04</td>\n",
       "      <td>2019-04-03</td>\n",
       "      <td>2019-04-19</td>\n",
       "      <td>USD</td>\n",
       "      <td>RV</td>\n",
       "      <td>111151.53</td>\n",
       "      <td>2019-04-04</td>\n",
       "      <td>NAC6</td>\n",
       "      <td>1</td>\n",
       "    </tr>\n",
       "    <tr>\n",
       "      <td>28882</td>\n",
       "      <td>U001</td>\n",
       "      <td>0200778355</td>\n",
       "      <td>US  us</td>\n",
       "      <td>2020</td>\n",
       "      <td>1.930517e+09</td>\n",
       "      <td>2020-02-12</td>\n",
       "      <td>2020-02-12</td>\n",
       "      <td>2020-02-27</td>\n",
       "      <td>USD</td>\n",
       "      <td>RV</td>\n",
       "      <td>52761.81</td>\n",
       "      <td>2020-02-12</td>\n",
       "      <td>NAA8</td>\n",
       "      <td>1</td>\n",
       "    </tr>\n",
       "    <tr>\n",
       "      <td>47707</td>\n",
       "      <td>U001</td>\n",
       "      <td>0200744019</td>\n",
       "      <td>TARG corp</td>\n",
       "      <td>2020</td>\n",
       "      <td>1.930475e+09</td>\n",
       "      <td>2020-02-05</td>\n",
       "      <td>2020-02-04</td>\n",
       "      <td>2020-02-20</td>\n",
       "      <td>USD</td>\n",
       "      <td>RV</td>\n",
       "      <td>22254.50</td>\n",
       "      <td>2020-02-05</td>\n",
       "      <td>NAA8</td>\n",
       "      <td>1</td>\n",
       "    </tr>\n",
       "    <tr>\n",
       "      <td>2352</td>\n",
       "      <td>U001</td>\n",
       "      <td>0200794332</td>\n",
       "      <td>COST llc</td>\n",
       "      <td>2019</td>\n",
       "      <td>1.929908e+09</td>\n",
       "      <td>2019-09-23</td>\n",
       "      <td>2019-09-21</td>\n",
       "      <td>2019-10-08</td>\n",
       "      <td>USD</td>\n",
       "      <td>RV</td>\n",
       "      <td>65233.55</td>\n",
       "      <td>2019-09-23</td>\n",
       "      <td>NAAX</td>\n",
       "      <td>1</td>\n",
       "    </tr>\n",
       "    <tr>\n",
       "      <td>13811</td>\n",
       "      <td>U001</td>\n",
       "      <td>0200795490</td>\n",
       "      <td>HY -  associates</td>\n",
       "      <td>2019</td>\n",
       "      <td>1.929665e+09</td>\n",
       "      <td>2019-07-25</td>\n",
       "      <td>2019-07-26</td>\n",
       "      <td>2019-08-09</td>\n",
       "      <td>USD</td>\n",
       "      <td>RV</td>\n",
       "      <td>64870.79</td>\n",
       "      <td>2019-07-25</td>\n",
       "      <td>NAA8</td>\n",
       "      <td>1</td>\n",
       "    </tr>\n",
       "  </tbody>\n",
       "</table>\n",
       "</div>"
      ],
      "text/plain": [
       "      business_code cust_number     name_customer  buisness_year  \\\n",
       "28750          U001   200762301        C&S WH llc           2019   \n",
       "28882          U001  0200778355            US  us           2020   \n",
       "47707          U001  0200744019         TARG corp           2020   \n",
       "2352           U001  0200794332          COST llc           2019   \n",
       "13811          U001  0200795490  HY -  associates           2019   \n",
       "\n",
       "             doc_id posting_date document_create_date due_in_date  \\\n",
       "28750  1.929077e+09   2019-04-04           2019-04-03  2019-04-19   \n",
       "28882  1.930517e+09   2020-02-12           2020-02-12  2020-02-27   \n",
       "47707  1.930475e+09   2020-02-05           2020-02-04  2020-02-20   \n",
       "2352   1.929908e+09   2019-09-23           2019-09-21  2019-10-08   \n",
       "13811  1.929665e+09   2019-07-25           2019-07-26  2019-08-09   \n",
       "\n",
       "      invoice_currency document type  total_open_amount baseline_create_date  \\\n",
       "28750              USD            RV          111151.53           2019-04-04   \n",
       "28882              USD            RV           52761.81           2020-02-12   \n",
       "47707              USD            RV           22254.50           2020-02-05   \n",
       "2352               USD            RV           65233.55           2019-09-23   \n",
       "13811              USD            RV           64870.79           2019-07-25   \n",
       "\n",
       "      cust_payment_terms  business_code_enc  \n",
       "28750               NAC6                  1  \n",
       "28882               NAA8                  1  \n",
       "47707               NAA8                  1  \n",
       "2352                NAAX                  1  \n",
       "13811               NAA8                  1  "
      ]
     },
     "execution_count": 51,
     "metadata": {},
     "output_type": "execute_result"
    }
   ],
   "source": [
    "x_valid_f1.head()"
   ]
  },
  {
   "cell_type": "code",
   "execution_count": 52,
   "metadata": {},
   "outputs": [
    {
     "data": {
      "text/html": [
       "<div>\n",
       "<style scoped>\n",
       "    .dataframe tbody tr th:only-of-type {\n",
       "        vertical-align: middle;\n",
       "    }\n",
       "\n",
       "    .dataframe tbody tr th {\n",
       "        vertical-align: top;\n",
       "    }\n",
       "\n",
       "    .dataframe thead th {\n",
       "        text-align: right;\n",
       "    }\n",
       "</style>\n",
       "<table border=\"1\" class=\"dataframe\">\n",
       "  <thead>\n",
       "    <tr style=\"text-align: right;\">\n",
       "      <th></th>\n",
       "      <th>business_code</th>\n",
       "      <th>cust_number</th>\n",
       "      <th>name_customer</th>\n",
       "      <th>buisness_year</th>\n",
       "      <th>doc_id</th>\n",
       "      <th>posting_date</th>\n",
       "      <th>document_create_date</th>\n",
       "      <th>due_in_date</th>\n",
       "      <th>invoice_currency</th>\n",
       "      <th>document type</th>\n",
       "      <th>total_open_amount</th>\n",
       "      <th>baseline_create_date</th>\n",
       "      <th>cust_payment_terms</th>\n",
       "      <th>business_code_enc</th>\n",
       "    </tr>\n",
       "  </thead>\n",
       "  <tbody>\n",
       "    <tr>\n",
       "      <td>42442</td>\n",
       "      <td>U001</td>\n",
       "      <td>0200747369</td>\n",
       "      <td>SCHNU</td>\n",
       "      <td>2019</td>\n",
       "      <td>1.929377e+09</td>\n",
       "      <td>2019-05-24</td>\n",
       "      <td>2019-05-24</td>\n",
       "      <td>2019-06-08</td>\n",
       "      <td>USD</td>\n",
       "      <td>RV</td>\n",
       "      <td>24382.35</td>\n",
       "      <td>2019-05-24</td>\n",
       "      <td>NAA8</td>\n",
       "      <td>1</td>\n",
       "    </tr>\n",
       "    <tr>\n",
       "      <td>36370</td>\n",
       "      <td>U001</td>\n",
       "      <td>200752302</td>\n",
       "      <td>KROGER systems</td>\n",
       "      <td>2019</td>\n",
       "      <td>1.928777e+09</td>\n",
       "      <td>2019-02-12</td>\n",
       "      <td>2019-02-10</td>\n",
       "      <td>2019-02-27</td>\n",
       "      <td>USD</td>\n",
       "      <td>RV</td>\n",
       "      <td>18275.72</td>\n",
       "      <td>2019-02-12</td>\n",
       "      <td>NAA8</td>\n",
       "      <td>1</td>\n",
       "    </tr>\n",
       "    <tr>\n",
       "      <td>39350</td>\n",
       "      <td>U001</td>\n",
       "      <td>0200783609</td>\n",
       "      <td>PROFIC</td>\n",
       "      <td>2019</td>\n",
       "      <td>1.929284e+09</td>\n",
       "      <td>2019-05-14</td>\n",
       "      <td>2019-05-08</td>\n",
       "      <td>2019-06-15</td>\n",
       "      <td>USD</td>\n",
       "      <td>RV</td>\n",
       "      <td>27621.00</td>\n",
       "      <td>2019-05-14</td>\n",
       "      <td>NA32</td>\n",
       "      <td>1</td>\n",
       "    </tr>\n",
       "    <tr>\n",
       "      <td>12324</td>\n",
       "      <td>U001</td>\n",
       "      <td>0200799367</td>\n",
       "      <td>MCL</td>\n",
       "      <td>2019</td>\n",
       "      <td>1.928742e+09</td>\n",
       "      <td>2019-02-07</td>\n",
       "      <td>2019-02-05</td>\n",
       "      <td>2019-02-22</td>\n",
       "      <td>USD</td>\n",
       "      <td>RV</td>\n",
       "      <td>29840.02</td>\n",
       "      <td>2019-02-07</td>\n",
       "      <td>NAA8</td>\n",
       "      <td>1</td>\n",
       "    </tr>\n",
       "    <tr>\n",
       "      <td>10827</td>\n",
       "      <td>U001</td>\n",
       "      <td>0200331749</td>\n",
       "      <td>SYSC corporation</td>\n",
       "      <td>2019</td>\n",
       "      <td>1.929597e+09</td>\n",
       "      <td>2019-07-09</td>\n",
       "      <td>2019-07-09</td>\n",
       "      <td>2019-07-29</td>\n",
       "      <td>USD</td>\n",
       "      <td>RV</td>\n",
       "      <td>11712.15</td>\n",
       "      <td>2019-07-09</td>\n",
       "      <td>NAD1</td>\n",
       "      <td>1</td>\n",
       "    </tr>\n",
       "  </tbody>\n",
       "</table>\n",
       "</div>"
      ],
      "text/plain": [
       "      business_code cust_number     name_customer  buisness_year  \\\n",
       "42442          U001  0200747369            SCHNU            2019   \n",
       "36370          U001   200752302    KROGER systems           2019   \n",
       "39350          U001  0200783609           PROFIC            2019   \n",
       "12324          U001  0200799367              MCL            2019   \n",
       "10827          U001  0200331749  SYSC corporation           2019   \n",
       "\n",
       "             doc_id posting_date document_create_date due_in_date  \\\n",
       "42442  1.929377e+09   2019-05-24           2019-05-24  2019-06-08   \n",
       "36370  1.928777e+09   2019-02-12           2019-02-10  2019-02-27   \n",
       "39350  1.929284e+09   2019-05-14           2019-05-08  2019-06-15   \n",
       "12324  1.928742e+09   2019-02-07           2019-02-05  2019-02-22   \n",
       "10827  1.929597e+09   2019-07-09           2019-07-09  2019-07-29   \n",
       "\n",
       "      invoice_currency document type  total_open_amount baseline_create_date  \\\n",
       "42442              USD            RV           24382.35           2019-05-24   \n",
       "36370              USD            RV           18275.72           2019-02-12   \n",
       "39350              USD            RV           27621.00           2019-05-14   \n",
       "12324              USD            RV           29840.02           2019-02-07   \n",
       "10827              USD            RV           11712.15           2019-07-09   \n",
       "\n",
       "      cust_payment_terms  business_code_enc  \n",
       "42442               NAA8                  1  \n",
       "36370               NAA8                  1  \n",
       "39350               NA32                  1  \n",
       "12324               NAA8                  1  \n",
       "10827               NAD1                  1  "
      ]
     },
     "execution_count": 52,
     "metadata": {},
     "output_type": "execute_result"
    }
   ],
   "source": [
    "x_test_f1.head()"
   ]
  },
  {
   "cell_type": "code",
   "execution_count": 53,
   "metadata": {},
   "outputs": [],
   "source": [
    "#After encoding droping the main column\n",
    "x_train_f1.drop(['business_code'], axis =1,inplace=True)\n",
    "x_valid_f1.drop(['business_code'],axis=1 , inplace=True)\n",
    "x_test_f1.drop(['business_code'],axis=1 , inplace=True)"
   ]
  },
  {
   "cell_type": "code",
   "execution_count": 54,
   "metadata": {},
   "outputs": [],
   "source": [
    "#name_customer encoding\n",
    "name_customer_encoder = LabelEncoder()\n",
    "name_customer_encoder.fit(x_train_f1['name_customer'])\n",
    "x_train_f1['name_customer_enc'] = name_customer_encoder.transform(x_train_f1['name_customer'])\n",
    "\n",
    "name_customer_encoder.fit(x_valid_f1['name_customer'])\n",
    "x_valid_f1['name_customer_enc'] = name_customer_encoder.transform(x_valid_f1['name_customer'])\n",
    "\n",
    "name_customer_encoder.fit(x_test_f1['name_customer'])\n",
    "x_test_f1['name_customer_enc'] = name_customer_encoder.transform(x_test_f1['name_customer'])\n"
   ]
  },
  {
   "cell_type": "code",
   "execution_count": 55,
   "metadata": {},
   "outputs": [],
   "source": [
    "#After encoding droping the main column\n",
    "x_train_f1.drop(['name_customer'], axis =1,inplace=True)\n",
    "x_valid_f1.drop(['name_customer'],axis=1 , inplace=True)\n",
    "x_test_f1.drop(['name_customer'],axis=1 , inplace=True)"
   ]
  },
  {
   "cell_type": "code",
   "execution_count": 56,
   "metadata": {},
   "outputs": [],
   "source": [
    "#cust_number encoding\n",
    "cust_number_encoder = LabelEncoder()\n",
    "cust_number_encoder.fit(x_train_f1['cust_number'])\n",
    "x_train_f1['cust_number_enc'] = cust_number_encoder.transform(x_train_f1['cust_number'])\n",
    "\n",
    "cust_number_encoder.fit(x_valid_f1['cust_number'])\n",
    "x_valid_f1['cust_number_enc'] = cust_number_encoder.transform(x_valid_f1['cust_number'])\n",
    "\n",
    "cust_number_encoder.fit(x_test_f1['cust_number'])\n",
    "x_test_f1['cust_number_enc'] = cust_number_encoder.transform(x_test_f1['cust_number'])\n"
   ]
  },
  {
   "cell_type": "code",
   "execution_count": 57,
   "metadata": {},
   "outputs": [],
   "source": [
    "#After encoding droping the main column\n",
    "x_train_f1.drop(['cust_number'], axis =1,inplace=True)\n",
    "x_valid_f1.drop(['cust_number'],axis=1 , inplace=True)\n",
    "x_test_f1.drop(['cust_number'],axis=1 , inplace=True)"
   ]
  },
  {
   "cell_type": "code",
   "execution_count": 58,
   "metadata": {},
   "outputs": [
    {
     "data": {
      "text/html": [
       "<div>\n",
       "<style scoped>\n",
       "    .dataframe tbody tr th:only-of-type {\n",
       "        vertical-align: middle;\n",
       "    }\n",
       "\n",
       "    .dataframe tbody tr th {\n",
       "        vertical-align: top;\n",
       "    }\n",
       "\n",
       "    .dataframe thead th {\n",
       "        text-align: right;\n",
       "    }\n",
       "</style>\n",
       "<table border=\"1\" class=\"dataframe\">\n",
       "  <thead>\n",
       "    <tr style=\"text-align: right;\">\n",
       "      <th></th>\n",
       "      <th>buisness_year</th>\n",
       "      <th>doc_id</th>\n",
       "      <th>posting_date</th>\n",
       "      <th>document_create_date</th>\n",
       "      <th>due_in_date</th>\n",
       "      <th>invoice_currency</th>\n",
       "      <th>document type</th>\n",
       "      <th>total_open_amount</th>\n",
       "      <th>baseline_create_date</th>\n",
       "      <th>cust_payment_terms</th>\n",
       "      <th>business_code_enc</th>\n",
       "      <th>name_customer_enc</th>\n",
       "      <th>cust_number_enc</th>\n",
       "    </tr>\n",
       "  </thead>\n",
       "  <tbody>\n",
       "    <tr>\n",
       "      <td>4821</td>\n",
       "      <td>2019</td>\n",
       "      <td>1.929766e+09</td>\n",
       "      <td>2019-08-20</td>\n",
       "      <td>2019-08-20</td>\n",
       "      <td>2019-09-04</td>\n",
       "      <td>USD</td>\n",
       "      <td>RV</td>\n",
       "      <td>64735.62</td>\n",
       "      <td>2019-08-20</td>\n",
       "      <td>NAA8</td>\n",
       "      <td>1</td>\n",
       "      <td>2799</td>\n",
       "      <td>397</td>\n",
       "    </tr>\n",
       "    <tr>\n",
       "      <td>34175</td>\n",
       "      <td>2019</td>\n",
       "      <td>1.929933e+09</td>\n",
       "      <td>2019-09-27</td>\n",
       "      <td>2019-09-26</td>\n",
       "      <td>2019-10-12</td>\n",
       "      <td>USD</td>\n",
       "      <td>RV</td>\n",
       "      <td>23608.63</td>\n",
       "      <td>2019-09-27</td>\n",
       "      <td>NAA8</td>\n",
       "      <td>1</td>\n",
       "      <td>1909</td>\n",
       "      <td>693</td>\n",
       "    </tr>\n",
       "    <tr>\n",
       "      <td>1353</td>\n",
       "      <td>2019</td>\n",
       "      <td>1.930167e+09</td>\n",
       "      <td>2019-11-18</td>\n",
       "      <td>2019-11-18</td>\n",
       "      <td>2019-12-20</td>\n",
       "      <td>USD</td>\n",
       "      <td>RV</td>\n",
       "      <td>38060.15</td>\n",
       "      <td>2019-11-18</td>\n",
       "      <td>NA32</td>\n",
       "      <td>1</td>\n",
       "      <td>3279</td>\n",
       "      <td>890</td>\n",
       "    </tr>\n",
       "    <tr>\n",
       "      <td>36432</td>\n",
       "      <td>2019</td>\n",
       "      <td>1.930043e+09</td>\n",
       "      <td>2019-10-22</td>\n",
       "      <td>2019-10-22</td>\n",
       "      <td>2019-12-01</td>\n",
       "      <td>USD</td>\n",
       "      <td>RV</td>\n",
       "      <td>2881.67</td>\n",
       "      <td>2019-10-22</td>\n",
       "      <td>NAWU</td>\n",
       "      <td>1</td>\n",
       "      <td>3372</td>\n",
       "      <td>616</td>\n",
       "    </tr>\n",
       "    <tr>\n",
       "      <td>31784</td>\n",
       "      <td>2019</td>\n",
       "      <td>1.929563e+09</td>\n",
       "      <td>2019-07-01</td>\n",
       "      <td>2019-07-01</td>\n",
       "      <td>2019-07-16</td>\n",
       "      <td>USD</td>\n",
       "      <td>RV</td>\n",
       "      <td>80065.95</td>\n",
       "      <td>2019-07-01</td>\n",
       "      <td>NAA8</td>\n",
       "      <td>1</td>\n",
       "      <td>2070</td>\n",
       "      <td>1170</td>\n",
       "    </tr>\n",
       "  </tbody>\n",
       "</table>\n",
       "</div>"
      ],
      "text/plain": [
       "       buisness_year        doc_id posting_date document_create_date  \\\n",
       "4821            2019  1.929766e+09   2019-08-20           2019-08-20   \n",
       "34175           2019  1.929933e+09   2019-09-27           2019-09-26   \n",
       "1353            2019  1.930167e+09   2019-11-18           2019-11-18   \n",
       "36432           2019  1.930043e+09   2019-10-22           2019-10-22   \n",
       "31784           2019  1.929563e+09   2019-07-01           2019-07-01   \n",
       "\n",
       "      due_in_date invoice_currency document type  total_open_amount  \\\n",
       "4821   2019-09-04              USD            RV           64735.62   \n",
       "34175  2019-10-12              USD            RV           23608.63   \n",
       "1353   2019-12-20              USD            RV           38060.15   \n",
       "36432  2019-12-01              USD            RV            2881.67   \n",
       "31784  2019-07-16              USD            RV           80065.95   \n",
       "\n",
       "      baseline_create_date cust_payment_terms  business_code_enc  \\\n",
       "4821            2019-08-20               NAA8                  1   \n",
       "34175           2019-09-27               NAA8                  1   \n",
       "1353            2019-11-18               NA32                  1   \n",
       "36432           2019-10-22               NAWU                  1   \n",
       "31784           2019-07-01               NAA8                  1   \n",
       "\n",
       "       name_customer_enc  cust_number_enc  \n",
       "4821                2799              397  \n",
       "34175               1909              693  \n",
       "1353                3279              890  \n",
       "36432               3372              616  \n",
       "31784               2070             1170  "
      ]
     },
     "execution_count": 58,
     "metadata": {},
     "output_type": "execute_result"
    }
   ],
   "source": [
    "x_train_f1.head()"
   ]
  },
  {
   "cell_type": "code",
   "execution_count": 59,
   "metadata": {},
   "outputs": [
    {
     "data": {
      "text/plain": [
       "buisness_year                    int64\n",
       "doc_id                         float64\n",
       "posting_date            datetime64[ns]\n",
       "document_create_date    datetime64[ns]\n",
       "due_in_date             datetime64[ns]\n",
       "invoice_currency                object\n",
       "document type                   object\n",
       "total_open_amount              float64\n",
       "baseline_create_date    datetime64[ns]\n",
       "cust_payment_terms              object\n",
       "business_code_enc                int32\n",
       "name_customer_enc                int32\n",
       "cust_number_enc                  int32\n",
       "dtype: object"
      ]
     },
     "execution_count": 59,
     "metadata": {},
     "output_type": "execute_result"
    }
   ],
   "source": [
    "x_train_f1.dtypes"
   ]
  },
  {
   "cell_type": "code",
   "execution_count": 60,
   "metadata": {},
   "outputs": [],
   "source": [
    "#For x_train_f1\n",
    "#extract day,month and year so that we can do extract out some features\n",
    "\n",
    "x_train_f1['posting_day'] = x_train_f1['posting_date'].dt.day\n",
    "x_train_f1['posting_month'] = x_train_f1['posting_date'].dt.month\n",
    "x_train_f1['posting_year'] = x_train_f1['posting_date'].dt.year\n",
    "\n",
    "x_train_f1['document_create_day'] = x_train_f1['document_create_date'].dt.day\n",
    "x_train_f1['document_create_month'] = x_train_f1['document_create_date'].dt.month\n",
    "x_train_f1['document_create_year'] = x_train_f1['document_create_date'].dt.year\n",
    "\n",
    "\n",
    "x_train_f1['due_in_day'] = x_train_f1['due_in_date'].dt.day\n",
    "x_train_f1['due_in_month'] = x_train_f1['due_in_date'].dt.month\n",
    "x_train_f1['due_in_year'] = x_train_f1['due_in_date'].dt.year\n",
    "\n",
    "x_train_f1['baseline_create_day'] = x_train_f1['baseline_create_date'].dt.day\n",
    "x_train_f1['baseline_create_month'] = x_train_f1['baseline_create_date'].dt.month\n",
    "x_train_f1['baseline_create_year'] = x_train_f1['baseline_create_date'].dt.year"
   ]
  },
  {
   "cell_type": "code",
   "execution_count": 61,
   "metadata": {},
   "outputs": [],
   "source": [
    "x_train_f1.drop(['posting_date','document_create_date','due_in_date','baseline_create_date'], axis =1,inplace=True)"
   ]
  },
  {
   "cell_type": "code",
   "execution_count": 62,
   "metadata": {},
   "outputs": [
    {
     "data": {
      "text/html": [
       "<div>\n",
       "<style scoped>\n",
       "    .dataframe tbody tr th:only-of-type {\n",
       "        vertical-align: middle;\n",
       "    }\n",
       "\n",
       "    .dataframe tbody tr th {\n",
       "        vertical-align: top;\n",
       "    }\n",
       "\n",
       "    .dataframe thead th {\n",
       "        text-align: right;\n",
       "    }\n",
       "</style>\n",
       "<table border=\"1\" class=\"dataframe\">\n",
       "  <thead>\n",
       "    <tr style=\"text-align: right;\">\n",
       "      <th></th>\n",
       "      <th>buisness_year</th>\n",
       "      <th>doc_id</th>\n",
       "      <th>invoice_currency</th>\n",
       "      <th>document type</th>\n",
       "      <th>total_open_amount</th>\n",
       "      <th>cust_payment_terms</th>\n",
       "      <th>business_code_enc</th>\n",
       "      <th>name_customer_enc</th>\n",
       "      <th>cust_number_enc</th>\n",
       "      <th>posting_day</th>\n",
       "      <th>...</th>\n",
       "      <th>posting_year</th>\n",
       "      <th>document_create_day</th>\n",
       "      <th>document_create_month</th>\n",
       "      <th>document_create_year</th>\n",
       "      <th>due_in_day</th>\n",
       "      <th>due_in_month</th>\n",
       "      <th>due_in_year</th>\n",
       "      <th>baseline_create_day</th>\n",
       "      <th>baseline_create_month</th>\n",
       "      <th>baseline_create_year</th>\n",
       "    </tr>\n",
       "  </thead>\n",
       "  <tbody>\n",
       "    <tr>\n",
       "      <td>4821</td>\n",
       "      <td>2019</td>\n",
       "      <td>1.929766e+09</td>\n",
       "      <td>USD</td>\n",
       "      <td>RV</td>\n",
       "      <td>64735.62</td>\n",
       "      <td>NAA8</td>\n",
       "      <td>1</td>\n",
       "      <td>2799</td>\n",
       "      <td>397</td>\n",
       "      <td>20</td>\n",
       "      <td>...</td>\n",
       "      <td>2019</td>\n",
       "      <td>20</td>\n",
       "      <td>8</td>\n",
       "      <td>2019</td>\n",
       "      <td>4</td>\n",
       "      <td>9</td>\n",
       "      <td>2019</td>\n",
       "      <td>20</td>\n",
       "      <td>8</td>\n",
       "      <td>2019</td>\n",
       "    </tr>\n",
       "    <tr>\n",
       "      <td>34175</td>\n",
       "      <td>2019</td>\n",
       "      <td>1.929933e+09</td>\n",
       "      <td>USD</td>\n",
       "      <td>RV</td>\n",
       "      <td>23608.63</td>\n",
       "      <td>NAA8</td>\n",
       "      <td>1</td>\n",
       "      <td>1909</td>\n",
       "      <td>693</td>\n",
       "      <td>27</td>\n",
       "      <td>...</td>\n",
       "      <td>2019</td>\n",
       "      <td>26</td>\n",
       "      <td>9</td>\n",
       "      <td>2019</td>\n",
       "      <td>12</td>\n",
       "      <td>10</td>\n",
       "      <td>2019</td>\n",
       "      <td>27</td>\n",
       "      <td>9</td>\n",
       "      <td>2019</td>\n",
       "    </tr>\n",
       "    <tr>\n",
       "      <td>1353</td>\n",
       "      <td>2019</td>\n",
       "      <td>1.930167e+09</td>\n",
       "      <td>USD</td>\n",
       "      <td>RV</td>\n",
       "      <td>38060.15</td>\n",
       "      <td>NA32</td>\n",
       "      <td>1</td>\n",
       "      <td>3279</td>\n",
       "      <td>890</td>\n",
       "      <td>18</td>\n",
       "      <td>...</td>\n",
       "      <td>2019</td>\n",
       "      <td>18</td>\n",
       "      <td>11</td>\n",
       "      <td>2019</td>\n",
       "      <td>20</td>\n",
       "      <td>12</td>\n",
       "      <td>2019</td>\n",
       "      <td>18</td>\n",
       "      <td>11</td>\n",
       "      <td>2019</td>\n",
       "    </tr>\n",
       "    <tr>\n",
       "      <td>36432</td>\n",
       "      <td>2019</td>\n",
       "      <td>1.930043e+09</td>\n",
       "      <td>USD</td>\n",
       "      <td>RV</td>\n",
       "      <td>2881.67</td>\n",
       "      <td>NAWU</td>\n",
       "      <td>1</td>\n",
       "      <td>3372</td>\n",
       "      <td>616</td>\n",
       "      <td>22</td>\n",
       "      <td>...</td>\n",
       "      <td>2019</td>\n",
       "      <td>22</td>\n",
       "      <td>10</td>\n",
       "      <td>2019</td>\n",
       "      <td>1</td>\n",
       "      <td>12</td>\n",
       "      <td>2019</td>\n",
       "      <td>22</td>\n",
       "      <td>10</td>\n",
       "      <td>2019</td>\n",
       "    </tr>\n",
       "    <tr>\n",
       "      <td>31784</td>\n",
       "      <td>2019</td>\n",
       "      <td>1.929563e+09</td>\n",
       "      <td>USD</td>\n",
       "      <td>RV</td>\n",
       "      <td>80065.95</td>\n",
       "      <td>NAA8</td>\n",
       "      <td>1</td>\n",
       "      <td>2070</td>\n",
       "      <td>1170</td>\n",
       "      <td>1</td>\n",
       "      <td>...</td>\n",
       "      <td>2019</td>\n",
       "      <td>1</td>\n",
       "      <td>7</td>\n",
       "      <td>2019</td>\n",
       "      <td>16</td>\n",
       "      <td>7</td>\n",
       "      <td>2019</td>\n",
       "      <td>1</td>\n",
       "      <td>7</td>\n",
       "      <td>2019</td>\n",
       "    </tr>\n",
       "  </tbody>\n",
       "</table>\n",
       "<p>5 rows × 21 columns</p>\n",
       "</div>"
      ],
      "text/plain": [
       "       buisness_year        doc_id invoice_currency document type  \\\n",
       "4821            2019  1.929766e+09              USD            RV   \n",
       "34175           2019  1.929933e+09              USD            RV   \n",
       "1353            2019  1.930167e+09              USD            RV   \n",
       "36432           2019  1.930043e+09              USD            RV   \n",
       "31784           2019  1.929563e+09              USD            RV   \n",
       "\n",
       "       total_open_amount cust_payment_terms  business_code_enc  \\\n",
       "4821            64735.62               NAA8                  1   \n",
       "34175           23608.63               NAA8                  1   \n",
       "1353            38060.15               NA32                  1   \n",
       "36432            2881.67               NAWU                  1   \n",
       "31784           80065.95               NAA8                  1   \n",
       "\n",
       "       name_customer_enc  cust_number_enc  posting_day  ...  posting_year  \\\n",
       "4821                2799              397           20  ...          2019   \n",
       "34175               1909              693           27  ...          2019   \n",
       "1353                3279              890           18  ...          2019   \n",
       "36432               3372              616           22  ...          2019   \n",
       "31784               2070             1170            1  ...          2019   \n",
       "\n",
       "       document_create_day  document_create_month  document_create_year  \\\n",
       "4821                    20                      8                  2019   \n",
       "34175                   26                      9                  2019   \n",
       "1353                    18                     11                  2019   \n",
       "36432                   22                     10                  2019   \n",
       "31784                    1                      7                  2019   \n",
       "\n",
       "       due_in_day  due_in_month  due_in_year  baseline_create_day  \\\n",
       "4821            4             9         2019                   20   \n",
       "34175          12            10         2019                   27   \n",
       "1353           20            12         2019                   18   \n",
       "36432           1            12         2019                   22   \n",
       "31784          16             7         2019                    1   \n",
       "\n",
       "       baseline_create_month  baseline_create_year  \n",
       "4821                       8                  2019  \n",
       "34175                      9                  2019  \n",
       "1353                      11                  2019  \n",
       "36432                     10                  2019  \n",
       "31784                      7                  2019  \n",
       "\n",
       "[5 rows x 21 columns]"
      ]
     },
     "execution_count": 62,
     "metadata": {},
     "output_type": "execute_result"
    }
   ],
   "source": [
    "x_train_f1.head(5)"
   ]
  },
  {
   "cell_type": "code",
   "execution_count": 63,
   "metadata": {},
   "outputs": [
    {
     "data": {
      "text/plain": [
       "True    31589\n",
       "Name: buisness_year, dtype: int64"
      ]
     },
     "execution_count": 63,
     "metadata": {},
     "output_type": "execute_result"
    }
   ],
   "source": [
    "#Here we can compare 2 columns, checking for there duplicates\n",
    "x_train_f1['buisness_year'].isin(x_train_f1['baseline_create_year']).value_counts()\n",
    "x_train_f1['buisness_year'].isin(x_train_f1['due_in_year']).value_counts()\n",
    "x_train_f1['buisness_year'].isin(x_train_f1['document_create_year']).value_counts()\n",
    "x_train_f1['buisness_year'].isin(x_train_f1['posting_year']).value_counts()"
   ]
  },
  {
   "cell_type": "code",
   "execution_count": 64,
   "metadata": {},
   "outputs": [],
   "source": [
    "#Droping Duplicate column\n",
    "x_train_f1.drop(['baseline_create_year','due_in_year','document_create_year','posting_year'], axis =1,inplace=True)"
   ]
  },
  {
   "cell_type": "code",
   "execution_count": 65,
   "metadata": {},
   "outputs": [],
   "source": [
    "#For x_valid_f1\n",
    "#extract day,month and year so that we can do extract out some features\n",
    "\n",
    "x_valid_f1['posting_day'] = x_valid_f1['posting_date'].dt.day\n",
    "x_valid_f1['posting_month'] = x_valid_f1['posting_date'].dt.month\n",
    "x_valid_f1['posting_year'] = x_valid_f1['posting_date'].dt.year\n",
    "\n",
    "x_valid_f1['document_create_day'] = x_valid_f1['document_create_date'].dt.day\n",
    "x_valid_f1['document_create_month'] = x_valid_f1['document_create_date'].dt.month\n",
    "x_valid_f1['document_create_year'] = x_valid_f1['document_create_date'].dt.year\n",
    "\n",
    "\n",
    "x_valid_f1['due_in_day'] = x_valid_f1['due_in_date'].dt.day\n",
    "x_valid_f1['due_in_month'] = x_valid_f1['due_in_date'].dt.month\n",
    "x_valid_f1['due_in_year'] = x_valid_f1['due_in_date'].dt.year\n",
    "\n",
    "x_valid_f1['baseline_create_day'] = x_valid_f1['baseline_create_date'].dt.day\n",
    "x_valid_f1['baseline_create_month'] = x_valid_f1['baseline_create_date'].dt.month\n",
    "x_valid_f1['baseline_create_year'] = x_valid_f1['baseline_create_date'].dt.year\n",
    "\n",
    "x_valid_f1.drop(['posting_date','document_create_date','due_in_date','baseline_create_date'], axis =1,inplace=True)"
   ]
  },
  {
   "cell_type": "code",
   "execution_count": 66,
   "metadata": {},
   "outputs": [
    {
     "data": {
      "text/plain": [
       "True    3949\n",
       "Name: buisness_year, dtype: int64"
      ]
     },
     "execution_count": 66,
     "metadata": {},
     "output_type": "execute_result"
    }
   ],
   "source": [
    "#Here we can compare 2 columns, checking for there duplicates\n",
    "x_valid_f1['buisness_year'].isin(x_valid_f1['baseline_create_year']).value_counts()\n",
    "x_valid_f1['buisness_year'].isin(x_valid_f1['due_in_year']).value_counts()\n",
    "x_valid_f1['buisness_year'].isin(x_valid_f1['document_create_year']).value_counts()\n",
    "x_valid_f1['buisness_year'].isin(x_valid_f1['posting_year']).value_counts()"
   ]
  },
  {
   "cell_type": "code",
   "execution_count": 67,
   "metadata": {},
   "outputs": [],
   "source": [
    "#Droping Duplicate column\n",
    "x_valid_f1.drop(['baseline_create_year','due_in_year','document_create_year','posting_year'], axis =1,inplace=True)"
   ]
  },
  {
   "cell_type": "code",
   "execution_count": 68,
   "metadata": {},
   "outputs": [],
   "source": [
    "#For x_test_f1\n",
    "#extract day,month and year so that we can do extract out some features\n",
    "\n",
    "x_test_f1['posting_day'] = x_test_f1['posting_date'].dt.day\n",
    "x_test_f1['posting_month'] = x_test_f1['posting_date'].dt.month\n",
    "x_test_f1['posting_year'] = x_test_f1['posting_date'].dt.year\n",
    "\n",
    "x_test_f1['document_create_day'] = x_test_f1['document_create_date'].dt.day\n",
    "x_test_f1['document_create_month'] = x_test_f1['document_create_date'].dt.month\n",
    "x_test_f1['document_create_year'] = x_test_f1['document_create_date'].dt.year\n",
    "\n",
    "\n",
    "x_test_f1['due_in_day'] = x_test_f1['due_in_date'].dt.day\n",
    "x_test_f1['due_in_month'] = x_test_f1['due_in_date'].dt.month\n",
    "x_test_f1['due_in_year'] = x_test_f1['due_in_date'].dt.year\n",
    "\n",
    "x_test_f1['baseline_create_day'] = x_test_f1['baseline_create_date'].dt.day\n",
    "x_test_f1['baseline_create_month'] = x_test_f1['baseline_create_date'].dt.month\n",
    "x_test_f1['baseline_create_year'] = x_test_f1['baseline_create_date'].dt.year\n",
    "\n",
    "x_test_f1.drop(['posting_date','document_create_date','due_in_date','baseline_create_date'], axis =1,inplace=True)"
   ]
  },
  {
   "cell_type": "code",
   "execution_count": 69,
   "metadata": {},
   "outputs": [
    {
     "data": {
      "text/plain": [
       "True    3949\n",
       "Name: buisness_year, dtype: int64"
      ]
     },
     "execution_count": 69,
     "metadata": {},
     "output_type": "execute_result"
    }
   ],
   "source": [
    "#Here we can compare 2 columns, checking for there duplicates\n",
    "x_test_f1['buisness_year'].isin(x_test_f1['baseline_create_year']).value_counts()\n",
    "x_test_f1['buisness_year'].isin(x_test_f1['due_in_year']).value_counts()\n",
    "x_test_f1['buisness_year'].isin(x_test_f1['document_create_year']).value_counts()\n",
    "x_test_f1['buisness_year'].isin(x_test_f1['posting_year']).value_counts()"
   ]
  },
  {
   "cell_type": "code",
   "execution_count": 70,
   "metadata": {},
   "outputs": [],
   "source": [
    "#Droping Duplicate columns\n",
    "x_test_f1.drop(['baseline_create_year','due_in_year','document_create_year','posting_year'], axis =1,inplace=True)"
   ]
  },
  {
   "cell_type": "code",
   "execution_count": 71,
   "metadata": {},
   "outputs": [
    {
     "data": {
      "text/html": [
       "<div>\n",
       "<style scoped>\n",
       "    .dataframe tbody tr th:only-of-type {\n",
       "        vertical-align: middle;\n",
       "    }\n",
       "\n",
       "    .dataframe tbody tr th {\n",
       "        vertical-align: top;\n",
       "    }\n",
       "\n",
       "    .dataframe thead th {\n",
       "        text-align: right;\n",
       "    }\n",
       "</style>\n",
       "<table border=\"1\" class=\"dataframe\">\n",
       "  <thead>\n",
       "    <tr style=\"text-align: right;\">\n",
       "      <th></th>\n",
       "      <th>buisness_year</th>\n",
       "      <th>doc_id</th>\n",
       "      <th>invoice_currency</th>\n",
       "      <th>document type</th>\n",
       "      <th>total_open_amount</th>\n",
       "      <th>cust_payment_terms</th>\n",
       "      <th>business_code_enc</th>\n",
       "      <th>name_customer_enc</th>\n",
       "      <th>cust_number_enc</th>\n",
       "      <th>posting_day</th>\n",
       "      <th>posting_month</th>\n",
       "      <th>document_create_day</th>\n",
       "      <th>document_create_month</th>\n",
       "      <th>due_in_day</th>\n",
       "      <th>due_in_month</th>\n",
       "      <th>baseline_create_day</th>\n",
       "      <th>baseline_create_month</th>\n",
       "    </tr>\n",
       "  </thead>\n",
       "  <tbody>\n",
       "    <tr>\n",
       "      <td>4821</td>\n",
       "      <td>2019</td>\n",
       "      <td>1.929766e+09</td>\n",
       "      <td>USD</td>\n",
       "      <td>RV</td>\n",
       "      <td>64735.62</td>\n",
       "      <td>NAA8</td>\n",
       "      <td>1</td>\n",
       "      <td>2799</td>\n",
       "      <td>397</td>\n",
       "      <td>20</td>\n",
       "      <td>8</td>\n",
       "      <td>20</td>\n",
       "      <td>8</td>\n",
       "      <td>4</td>\n",
       "      <td>9</td>\n",
       "      <td>20</td>\n",
       "      <td>8</td>\n",
       "    </tr>\n",
       "    <tr>\n",
       "      <td>34175</td>\n",
       "      <td>2019</td>\n",
       "      <td>1.929933e+09</td>\n",
       "      <td>USD</td>\n",
       "      <td>RV</td>\n",
       "      <td>23608.63</td>\n",
       "      <td>NAA8</td>\n",
       "      <td>1</td>\n",
       "      <td>1909</td>\n",
       "      <td>693</td>\n",
       "      <td>27</td>\n",
       "      <td>9</td>\n",
       "      <td>26</td>\n",
       "      <td>9</td>\n",
       "      <td>12</td>\n",
       "      <td>10</td>\n",
       "      <td>27</td>\n",
       "      <td>9</td>\n",
       "    </tr>\n",
       "    <tr>\n",
       "      <td>1353</td>\n",
       "      <td>2019</td>\n",
       "      <td>1.930167e+09</td>\n",
       "      <td>USD</td>\n",
       "      <td>RV</td>\n",
       "      <td>38060.15</td>\n",
       "      <td>NA32</td>\n",
       "      <td>1</td>\n",
       "      <td>3279</td>\n",
       "      <td>890</td>\n",
       "      <td>18</td>\n",
       "      <td>11</td>\n",
       "      <td>18</td>\n",
       "      <td>11</td>\n",
       "      <td>20</td>\n",
       "      <td>12</td>\n",
       "      <td>18</td>\n",
       "      <td>11</td>\n",
       "    </tr>\n",
       "    <tr>\n",
       "      <td>36432</td>\n",
       "      <td>2019</td>\n",
       "      <td>1.930043e+09</td>\n",
       "      <td>USD</td>\n",
       "      <td>RV</td>\n",
       "      <td>2881.67</td>\n",
       "      <td>NAWU</td>\n",
       "      <td>1</td>\n",
       "      <td>3372</td>\n",
       "      <td>616</td>\n",
       "      <td>22</td>\n",
       "      <td>10</td>\n",
       "      <td>22</td>\n",
       "      <td>10</td>\n",
       "      <td>1</td>\n",
       "      <td>12</td>\n",
       "      <td>22</td>\n",
       "      <td>10</td>\n",
       "    </tr>\n",
       "    <tr>\n",
       "      <td>31784</td>\n",
       "      <td>2019</td>\n",
       "      <td>1.929563e+09</td>\n",
       "      <td>USD</td>\n",
       "      <td>RV</td>\n",
       "      <td>80065.95</td>\n",
       "      <td>NAA8</td>\n",
       "      <td>1</td>\n",
       "      <td>2070</td>\n",
       "      <td>1170</td>\n",
       "      <td>1</td>\n",
       "      <td>7</td>\n",
       "      <td>1</td>\n",
       "      <td>7</td>\n",
       "      <td>16</td>\n",
       "      <td>7</td>\n",
       "      <td>1</td>\n",
       "      <td>7</td>\n",
       "    </tr>\n",
       "  </tbody>\n",
       "</table>\n",
       "</div>"
      ],
      "text/plain": [
       "       buisness_year        doc_id invoice_currency document type  \\\n",
       "4821            2019  1.929766e+09              USD            RV   \n",
       "34175           2019  1.929933e+09              USD            RV   \n",
       "1353            2019  1.930167e+09              USD            RV   \n",
       "36432           2019  1.930043e+09              USD            RV   \n",
       "31784           2019  1.929563e+09              USD            RV   \n",
       "\n",
       "       total_open_amount cust_payment_terms  business_code_enc  \\\n",
       "4821            64735.62               NAA8                  1   \n",
       "34175           23608.63               NAA8                  1   \n",
       "1353            38060.15               NA32                  1   \n",
       "36432            2881.67               NAWU                  1   \n",
       "31784           80065.95               NAA8                  1   \n",
       "\n",
       "       name_customer_enc  cust_number_enc  posting_day  posting_month  \\\n",
       "4821                2799              397           20              8   \n",
       "34175               1909              693           27              9   \n",
       "1353                3279              890           18             11   \n",
       "36432               3372              616           22             10   \n",
       "31784               2070             1170            1              7   \n",
       "\n",
       "       document_create_day  document_create_month  due_in_day  due_in_month  \\\n",
       "4821                    20                      8           4             9   \n",
       "34175                   26                      9          12            10   \n",
       "1353                    18                     11          20            12   \n",
       "36432                   22                     10           1            12   \n",
       "31784                    1                      7          16             7   \n",
       "\n",
       "       baseline_create_day  baseline_create_month  \n",
       "4821                    20                      8  \n",
       "34175                   27                      9  \n",
       "1353                    18                     11  \n",
       "36432                   22                     10  \n",
       "31784                    1                      7  "
      ]
     },
     "execution_count": 71,
     "metadata": {},
     "output_type": "execute_result"
    }
   ],
   "source": [
    "x_train_f1.head()"
   ]
  },
  {
   "cell_type": "code",
   "execution_count": 72,
   "metadata": {},
   "outputs": [],
   "source": [
    "#invoice_currency encoding\n",
    "invoice_currency_encoder = LabelEncoder()\n",
    "invoice_currency_encoder.fit(x_train_f1['invoice_currency'])\n",
    "x_train_f1['invoice_currency_enc'] = invoice_currency_encoder.transform(x_train_f1['invoice_currency'])\n",
    "\n",
    "invoice_currency_encoder.fit(x_valid_f1['invoice_currency'])\n",
    "x_valid_f1['invoice_currency_enc'] = invoice_currency_encoder.transform(x_valid_f1['invoice_currency'])\n",
    "\n",
    "invoice_currency_encoder.fit(x_test_f1['invoice_currency'])\n",
    "x_test_f1['invoice_currency_enc'] = invoice_currency_encoder.transform(x_test_f1['invoice_currency'])"
   ]
  },
  {
   "cell_type": "code",
   "execution_count": 73,
   "metadata": {},
   "outputs": [],
   "source": [
    "#After encoding droping the main column\n",
    "x_train_f1.drop(['invoice_currency'], axis =1,inplace=True)\n",
    "x_valid_f1.drop(['invoice_currency'],axis=1 , inplace=True)\n",
    "x_test_f1.drop(['invoice_currency'],axis=1 , inplace=True)"
   ]
  },
  {
   "cell_type": "code",
   "execution_count": 74,
   "metadata": {},
   "outputs": [],
   "source": [
    "#document type encoding\n",
    "document_type_encoder = LabelEncoder()\n",
    "document_type_encoder.fit(x_train_f1['document type'])\n",
    "x_train_f1['document_type_enc'] = document_type_encoder.transform(x_train_f1['document type'])\n",
    "\n",
    "document_type_encoder.fit(x_valid_f1['document type'])\n",
    "x_valid_f1['document_type_enc'] = document_type_encoder.transform(x_valid_f1['document type'])\n",
    "\n",
    "document_type_encoder.fit(x_test_f1['document type'])\n",
    "x_test_f1['document_type_enc'] = document_type_encoder.transform(x_test_f1['document type'])"
   ]
  },
  {
   "cell_type": "code",
   "execution_count": 75,
   "metadata": {},
   "outputs": [],
   "source": [
    "#After encoding droping the main column\n",
    "x_train_f1.drop(['document type'], axis =1,inplace=True)\n",
    "x_valid_f1.drop(['document type'],axis=1 , inplace=True)\n",
    "x_test_f1.drop(['document type'],axis=1 , inplace=True)"
   ]
  },
  {
   "cell_type": "code",
   "execution_count": 76,
   "metadata": {},
   "outputs": [],
   "source": [
    "#invoice_currency encoding\n",
    "cust_payment_terms_encoder = LabelEncoder()\n",
    "cust_payment_terms_encoder.fit(x_train_f1['cust_payment_terms'])\n",
    "x_train_f1['cust_payment_terms_enc'] = cust_payment_terms_encoder.transform(x_train_f1['cust_payment_terms'])\n",
    "\n",
    "cust_payment_terms_encoder.fit(x_valid_f1['cust_payment_terms'])\n",
    "x_valid_f1['cust_payment_terms_enc'] = cust_payment_terms_encoder.transform(x_valid_f1['cust_payment_terms'])\n",
    "\n",
    "cust_payment_terms_encoder.fit(x_test_f1['cust_payment_terms'])\n",
    "x_test_f1['cust_payment_terms_enc'] = cust_payment_terms_encoder.transform(x_test_f1['cust_payment_terms'])"
   ]
  },
  {
   "cell_type": "code",
   "execution_count": 77,
   "metadata": {},
   "outputs": [],
   "source": [
    "#After encoding droping the main column\n",
    "x_train_f1.drop(['cust_payment_terms'], axis =1,inplace=True)\n",
    "x_valid_f1.drop(['cust_payment_terms'],axis=1 , inplace=True)\n",
    "x_test_f1.drop(['cust_payment_terms'],axis=1 , inplace=True)"
   ]
  },
  {
   "cell_type": "code",
   "execution_count": 78,
   "metadata": {},
   "outputs": [
    {
     "data": {
      "text/html": [
       "<div>\n",
       "<style scoped>\n",
       "    .dataframe tbody tr th:only-of-type {\n",
       "        vertical-align: middle;\n",
       "    }\n",
       "\n",
       "    .dataframe tbody tr th {\n",
       "        vertical-align: top;\n",
       "    }\n",
       "\n",
       "    .dataframe thead th {\n",
       "        text-align: right;\n",
       "    }\n",
       "</style>\n",
       "<table border=\"1\" class=\"dataframe\">\n",
       "  <thead>\n",
       "    <tr style=\"text-align: right;\">\n",
       "      <th></th>\n",
       "      <th>buisness_year</th>\n",
       "      <th>doc_id</th>\n",
       "      <th>total_open_amount</th>\n",
       "      <th>business_code_enc</th>\n",
       "      <th>name_customer_enc</th>\n",
       "      <th>cust_number_enc</th>\n",
       "      <th>posting_day</th>\n",
       "      <th>posting_month</th>\n",
       "      <th>document_create_day</th>\n",
       "      <th>document_create_month</th>\n",
       "      <th>due_in_day</th>\n",
       "      <th>due_in_month</th>\n",
       "      <th>baseline_create_day</th>\n",
       "      <th>baseline_create_month</th>\n",
       "      <th>invoice_currency_enc</th>\n",
       "      <th>document_type_enc</th>\n",
       "      <th>cust_payment_terms_enc</th>\n",
       "    </tr>\n",
       "  </thead>\n",
       "  <tbody>\n",
       "    <tr>\n",
       "      <td>4821</td>\n",
       "      <td>2019</td>\n",
       "      <td>1.929766e+09</td>\n",
       "      <td>64735.62</td>\n",
       "      <td>1</td>\n",
       "      <td>2799</td>\n",
       "      <td>397</td>\n",
       "      <td>20</td>\n",
       "      <td>8</td>\n",
       "      <td>20</td>\n",
       "      <td>8</td>\n",
       "      <td>4</td>\n",
       "      <td>9</td>\n",
       "      <td>20</td>\n",
       "      <td>8</td>\n",
       "      <td>1</td>\n",
       "      <td>0</td>\n",
       "      <td>19</td>\n",
       "    </tr>\n",
       "    <tr>\n",
       "      <td>34175</td>\n",
       "      <td>2019</td>\n",
       "      <td>1.929933e+09</td>\n",
       "      <td>23608.63</td>\n",
       "      <td>1</td>\n",
       "      <td>1909</td>\n",
       "      <td>693</td>\n",
       "      <td>27</td>\n",
       "      <td>9</td>\n",
       "      <td>26</td>\n",
       "      <td>9</td>\n",
       "      <td>12</td>\n",
       "      <td>10</td>\n",
       "      <td>27</td>\n",
       "      <td>9</td>\n",
       "      <td>1</td>\n",
       "      <td>0</td>\n",
       "      <td>19</td>\n",
       "    </tr>\n",
       "    <tr>\n",
       "      <td>1353</td>\n",
       "      <td>2019</td>\n",
       "      <td>1.930167e+09</td>\n",
       "      <td>38060.15</td>\n",
       "      <td>1</td>\n",
       "      <td>3279</td>\n",
       "      <td>890</td>\n",
       "      <td>18</td>\n",
       "      <td>11</td>\n",
       "      <td>18</td>\n",
       "      <td>11</td>\n",
       "      <td>20</td>\n",
       "      <td>12</td>\n",
       "      <td>18</td>\n",
       "      <td>11</td>\n",
       "      <td>1</td>\n",
       "      <td>0</td>\n",
       "      <td>12</td>\n",
       "    </tr>\n",
       "    <tr>\n",
       "      <td>36432</td>\n",
       "      <td>2019</td>\n",
       "      <td>1.930043e+09</td>\n",
       "      <td>2881.67</td>\n",
       "      <td>1</td>\n",
       "      <td>3372</td>\n",
       "      <td>616</td>\n",
       "      <td>22</td>\n",
       "      <td>10</td>\n",
       "      <td>22</td>\n",
       "      <td>10</td>\n",
       "      <td>1</td>\n",
       "      <td>12</td>\n",
       "      <td>22</td>\n",
       "      <td>10</td>\n",
       "      <td>1</td>\n",
       "      <td>0</td>\n",
       "      <td>64</td>\n",
       "    </tr>\n",
       "    <tr>\n",
       "      <td>31784</td>\n",
       "      <td>2019</td>\n",
       "      <td>1.929563e+09</td>\n",
       "      <td>80065.95</td>\n",
       "      <td>1</td>\n",
       "      <td>2070</td>\n",
       "      <td>1170</td>\n",
       "      <td>1</td>\n",
       "      <td>7</td>\n",
       "      <td>1</td>\n",
       "      <td>7</td>\n",
       "      <td>16</td>\n",
       "      <td>7</td>\n",
       "      <td>1</td>\n",
       "      <td>7</td>\n",
       "      <td>1</td>\n",
       "      <td>0</td>\n",
       "      <td>19</td>\n",
       "    </tr>\n",
       "  </tbody>\n",
       "</table>\n",
       "</div>"
      ],
      "text/plain": [
       "       buisness_year        doc_id  total_open_amount  business_code_enc  \\\n",
       "4821            2019  1.929766e+09           64735.62                  1   \n",
       "34175           2019  1.929933e+09           23608.63                  1   \n",
       "1353            2019  1.930167e+09           38060.15                  1   \n",
       "36432           2019  1.930043e+09            2881.67                  1   \n",
       "31784           2019  1.929563e+09           80065.95                  1   \n",
       "\n",
       "       name_customer_enc  cust_number_enc  posting_day  posting_month  \\\n",
       "4821                2799              397           20              8   \n",
       "34175               1909              693           27              9   \n",
       "1353                3279              890           18             11   \n",
       "36432               3372              616           22             10   \n",
       "31784               2070             1170            1              7   \n",
       "\n",
       "       document_create_day  document_create_month  due_in_day  due_in_month  \\\n",
       "4821                    20                      8           4             9   \n",
       "34175                   26                      9          12            10   \n",
       "1353                    18                     11          20            12   \n",
       "36432                   22                     10           1            12   \n",
       "31784                    1                      7          16             7   \n",
       "\n",
       "       baseline_create_day  baseline_create_month  invoice_currency_enc  \\\n",
       "4821                    20                      8                     1   \n",
       "34175                   27                      9                     1   \n",
       "1353                    18                     11                     1   \n",
       "36432                   22                     10                     1   \n",
       "31784                    1                      7                     1   \n",
       "\n",
       "       document_type_enc  cust_payment_terms_enc  \n",
       "4821                   0                      19  \n",
       "34175                  0                      19  \n",
       "1353                   0                      12  \n",
       "36432                  0                      64  \n",
       "31784                  0                      19  "
      ]
     },
     "execution_count": 78,
     "metadata": {},
     "output_type": "execute_result"
    }
   ],
   "source": [
    "x_train_f1.head()"
   ]
  },
  {
   "cell_type": "code",
   "execution_count": 79,
   "metadata": {},
   "outputs": [
    {
     "data": {
      "text/plain": [
       "buisness_year               int64\n",
       "doc_id                    float64\n",
       "total_open_amount         float64\n",
       "business_code_enc           int32\n",
       "name_customer_enc           int32\n",
       "cust_number_enc             int32\n",
       "posting_day                 int64\n",
       "posting_month               int64\n",
       "document_create_day         int64\n",
       "document_create_month       int64\n",
       "due_in_day                  int64\n",
       "due_in_month                int64\n",
       "baseline_create_day         int64\n",
       "baseline_create_month       int64\n",
       "invoice_currency_enc        int32\n",
       "document_type_enc           int32\n",
       "cust_payment_terms_enc      int32\n",
       "dtype: object"
      ]
     },
     "execution_count": 79,
     "metadata": {},
     "output_type": "execute_result"
    }
   ],
   "source": [
    "x_train_f1.dtypes"
   ]
  },
  {
   "cell_type": "markdown",
   "metadata": {},
   "source": [
    "## Feature Selection"
   ]
  },
  {
   "cell_type": "code",
   "execution_count": 80,
   "metadata": {},
   "outputs": [],
   "source": [
    "x_train_f2=x_train_f1"
   ]
  },
  {
   "cell_type": "code",
   "execution_count": 81,
   "metadata": {},
   "outputs": [
    {
     "data": {
      "text/plain": [
       "<matplotlib.axes._subplots.AxesSubplot at 0x2a3432ad148>"
      ]
     },
     "execution_count": 81,
     "metadata": {},
     "output_type": "execute_result"
    },
    {
     "data": {
      "image/png": "[encoded data removed]",
      "text/plain": [
       "<Figure size 1008x864 with 2 Axes>"
      ]
     },
     "metadata": {
      "needs_background": "light"
     },
     "output_type": "display_data"
    }
   ],
   "source": [
    "#Feature Selection\n",
    "\n",
    "#corrmat = X_train.merge(y_train , on = X_train.index).corr()\n",
    "# plt.subplots(figsize=(12,9))\n",
    "# sns.heatmap(corrmat, vmax=0.9, square=True)\n",
    "\n",
    "\n",
    "colormap = plt.cm.RdBu\n",
    "plt.figure(figsize=(14,12))\n",
    "plt.title('Pearson Correlation of Features', y=1.05, size=15)\n",
    "sns.heatmap(x_train_f1.merge(y_train , on = x_train_f1.index ).corr(),linewidths=0.1,vmax=1.0, \n",
    "            square=True, cmap=colormap, linecolor='white', annot=True)"
   ]
  },
  {
   "cell_type": "code",
   "execution_count": 82,
   "metadata": {},
   "outputs": [],
   "source": [
    "# with the following function we can select highly correlated features\n",
    "# it will remove the first feature that is correlated with anything other feature\n",
    "\n",
    "def correlation(dataset, threshold):\n",
    "    col_corr = set()  # Set of all the names of correlated columns\n",
    "    corr_matrix = dataset.corr()\n",
    "    for i in range(len(corr_matrix.columns)):\n",
    "        for j in range(i):\n",
    "            if abs(corr_matrix.iloc[i, j]) > threshold: # we are interested in absolute coeff value\n",
    "                colname = corr_matrix.columns[i]  # getting the name of column\n",
    "                col_corr.add(colname)\n",
    "    return col_corr"
   ]
  },
  {
   "cell_type": "code",
   "execution_count": 83,
   "metadata": {},
   "outputs": [
    {
     "data": {
      "text/plain": [
       "6"
      ]
     },
     "execution_count": 83,
     "metadata": {},
     "output_type": "execute_result"
    }
   ],
   "source": [
    "corr_features1 = correlation(x_train_f1, 0.78)\n",
    "len(set(corr_features1))"
   ]
  },
  {
   "cell_type": "code",
   "execution_count": 84,
   "metadata": {},
   "outputs": [
    {
     "data": {
      "text/plain": [
       "{'baseline_create_day',\n",
       " 'baseline_create_month',\n",
       " 'document_create_day',\n",
       " 'document_create_month',\n",
       " 'due_in_month',\n",
       " 'invoice_currency_enc'}"
      ]
     },
     "execution_count": 84,
     "metadata": {},
     "output_type": "execute_result"
    }
   ],
   "source": [
    "corr_features1"
   ]
  },
  {
   "cell_type": "code",
   "execution_count": 85,
   "metadata": {},
   "outputs": [],
   "source": [
    "x_train_f1.drop(['baseline_create_day', 'baseline_create_month', 'document_create_day', 'document_create_month','invoice_currency_enc','due_in_month'], axis =1,inplace=True)"
   ]
  },
  {
   "cell_type": "code",
   "execution_count": 86,
   "metadata": {},
   "outputs": [],
   "source": [
    "#Droping doc_id as it is highly unrelated\n",
    "x_train_f1.drop(['document_type_enc'], axis =1,inplace=True)"
   ]
  },
  {
   "cell_type": "code",
   "execution_count": 87,
   "metadata": {},
   "outputs": [],
   "source": [
    "x_train_f1.drop(['cust_payment_terms_enc'], axis =1,inplace=True)"
   ]
  },
  {
   "cell_type": "code",
   "execution_count": 88,
   "metadata": {},
   "outputs": [
    {
     "data": {
      "text/plain": [
       "<matplotlib.axes._subplots.AxesSubplot at 0x2a345e60088>"
      ]
     },
     "execution_count": 88,
     "metadata": {},
     "output_type": "execute_result"
    },
    {
     "data": {
      "image/png": "[encoded data removed]",
      "text/plain": [
       "<Figure size 1008x864 with 2 Axes>"
      ]
     },
     "metadata": {
      "needs_background": "light"
     },
     "output_type": "display_data"
    }
   ],
   "source": [
    "colormap = plt.cm.RdBu\n",
    "plt.figure(figsize=(14,12))\n",
    "plt.title('Pearson Correlation of Features', y=1.05, size=15)\n",
    "sns.heatmap(x_train_f1.merge(y_train , on = x_train_f1.index ).corr(),linewidths=0.1,vmax=1.0, \n",
    "            square=True, cmap=colormap, linecolor='white', annot=True)"
   ]
  },
  {
   "cell_type": "code",
   "execution_count": 89,
   "metadata": {},
   "outputs": [],
   "source": [
    "x_valid_f1.drop(['baseline_create_day', 'baseline_create_month', 'document_create_day', 'document_create_month','invoice_currency_enc','due_in_month','cust_payment_terms_enc','document_type_enc'], axis =1,inplace=True)\n",
    "x_test_f1.drop(['baseline_create_day', 'baseline_create_month', 'document_create_day', 'document_create_month','invoice_currency_enc','due_in_month','cust_payment_terms_enc','document_type_enc'], axis =1,inplace=True)"
   ]
  },
  {
   "cell_type": "code",
   "execution_count": 90,
   "metadata": {},
   "outputs": [
    {
     "data": {
      "text/html": [
       "<div>\n",
       "<style scoped>\n",
       "    .dataframe tbody tr th:only-of-type {\n",
       "        vertical-align: middle;\n",
       "    }\n",
       "\n",
       "    .dataframe tbody tr th {\n",
       "        vertical-align: top;\n",
       "    }\n",
       "\n",
       "    .dataframe thead th {\n",
       "        text-align: right;\n",
       "    }\n",
       "</style>\n",
       "<table border=\"1\" class=\"dataframe\">\n",
       "  <thead>\n",
       "    <tr style=\"text-align: right;\">\n",
       "      <th></th>\n",
       "      <th>buisness_year</th>\n",
       "      <th>doc_id</th>\n",
       "      <th>total_open_amount</th>\n",
       "      <th>business_code_enc</th>\n",
       "      <th>name_customer_enc</th>\n",
       "      <th>cust_number_enc</th>\n",
       "      <th>posting_day</th>\n",
       "      <th>posting_month</th>\n",
       "      <th>due_in_day</th>\n",
       "    </tr>\n",
       "  </thead>\n",
       "  <tbody>\n",
       "    <tr>\n",
       "      <td>4821</td>\n",
       "      <td>2019</td>\n",
       "      <td>1.929766e+09</td>\n",
       "      <td>64735.62</td>\n",
       "      <td>1</td>\n",
       "      <td>2799</td>\n",
       "      <td>397</td>\n",
       "      <td>20</td>\n",
       "      <td>8</td>\n",
       "      <td>4</td>\n",
       "    </tr>\n",
       "    <tr>\n",
       "      <td>34175</td>\n",
       "      <td>2019</td>\n",
       "      <td>1.929933e+09</td>\n",
       "      <td>23608.63</td>\n",
       "      <td>1</td>\n",
       "      <td>1909</td>\n",
       "      <td>693</td>\n",
       "      <td>27</td>\n",
       "      <td>9</td>\n",
       "      <td>12</td>\n",
       "    </tr>\n",
       "    <tr>\n",
       "      <td>1353</td>\n",
       "      <td>2019</td>\n",
       "      <td>1.930167e+09</td>\n",
       "      <td>38060.15</td>\n",
       "      <td>1</td>\n",
       "      <td>3279</td>\n",
       "      <td>890</td>\n",
       "      <td>18</td>\n",
       "      <td>11</td>\n",
       "      <td>20</td>\n",
       "    </tr>\n",
       "    <tr>\n",
       "      <td>36432</td>\n",
       "      <td>2019</td>\n",
       "      <td>1.930043e+09</td>\n",
       "      <td>2881.67</td>\n",
       "      <td>1</td>\n",
       "      <td>3372</td>\n",
       "      <td>616</td>\n",
       "      <td>22</td>\n",
       "      <td>10</td>\n",
       "      <td>1</td>\n",
       "    </tr>\n",
       "    <tr>\n",
       "      <td>31784</td>\n",
       "      <td>2019</td>\n",
       "      <td>1.929563e+09</td>\n",
       "      <td>80065.95</td>\n",
       "      <td>1</td>\n",
       "      <td>2070</td>\n",
       "      <td>1170</td>\n",
       "      <td>1</td>\n",
       "      <td>7</td>\n",
       "      <td>16</td>\n",
       "    </tr>\n",
       "  </tbody>\n",
       "</table>\n",
       "</div>"
      ],
      "text/plain": [
       "       buisness_year        doc_id  total_open_amount  business_code_enc  \\\n",
       "4821            2019  1.929766e+09           64735.62                  1   \n",
       "34175           2019  1.929933e+09           23608.63                  1   \n",
       "1353            2019  1.930167e+09           38060.15                  1   \n",
       "36432           2019  1.930043e+09            2881.67                  1   \n",
       "31784           2019  1.929563e+09           80065.95                  1   \n",
       "\n",
       "       name_customer_enc  cust_number_enc  posting_day  posting_month  \\\n",
       "4821                2799              397           20              8   \n",
       "34175               1909              693           27              9   \n",
       "1353                3279              890           18             11   \n",
       "36432               3372              616           22             10   \n",
       "31784               2070             1170            1              7   \n",
       "\n",
       "       due_in_day  \n",
       "4821            4  \n",
       "34175          12  \n",
       "1353           20  \n",
       "36432           1  \n",
       "31784          16  "
      ]
     },
     "execution_count": 90,
     "metadata": {},
     "output_type": "execute_result"
    }
   ],
   "source": [
    "x_train_f1.head()"
   ]
  },
  {
   "cell_type": "markdown",
   "metadata": {},
   "source": [
    "# Milestone3"
   ]
  },
  {
   "cell_type": "markdown",
   "metadata": {},
   "source": [
    "## Modeling"
   ]
  },
  {
   "cell_type": "markdown",
   "metadata": {},
   "source": [
    "### Linear Regression"
   ]
  },
  {
   "cell_type": "code",
   "execution_count": 91,
   "metadata": {},
   "outputs": [
    {
     "data": {
      "text/plain": [
       "LinearRegression(copy_X=True, fit_intercept=True, n_jobs=None, normalize=False)"
      ]
     },
     "execution_count": 91,
     "metadata": {},
     "output_type": "execute_result"
    }
   ],
   "source": [
    "from sklearn.linear_model import LinearRegression\n",
    "base_model = LinearRegression()\n",
    "base_model.fit(x_train_f1, y_train)"
   ]
  },
  {
   "cell_type": "code",
   "execution_count": 92,
   "metadata": {},
   "outputs": [],
   "source": [
    "y_predict = base_model.predict(x_valid_f1)"
   ]
  },
  {
   "cell_type": "code",
   "execution_count": 93,
   "metadata": {},
   "outputs": [
    {
     "data": {
      "text/plain": [
       "100.00243935928174"
      ]
     },
     "execution_count": 93,
     "metadata": {},
     "output_type": "execute_result"
    }
   ],
   "source": [
    "\n",
    "from sklearn.metrics import mean_squared_error,r2_score\n",
    "\n",
    "mean_squared_error(y_valid, y_predict)"
   ]
  },
  {
   "cell_type": "code",
   "execution_count": 94,
   "metadata": {},
   "outputs": [
    {
     "data": {
      "text/plain": [
       "-0.020637179331119526"
      ]
     },
     "execution_count": 94,
     "metadata": {},
     "output_type": "execute_result"
    }
   ],
   "source": [
    "r2_score(y_valid,y_predict)"
   ]
  },
  {
   "cell_type": "code",
   "execution_count": 95,
   "metadata": {},
   "outputs": [],
   "source": [
    "met = pd.DataFrame(zip(y_predict , y_test),columns=['Predicted','Actuals'])"
   ]
  },
  {
   "cell_type": "code",
   "execution_count": 96,
   "metadata": {},
   "outputs": [
    {
     "data": {
      "text/html": [
       "<div>\n",
       "<style scoped>\n",
       "    .dataframe tbody tr th:only-of-type {\n",
       "        vertical-align: middle;\n",
       "    }\n",
       "\n",
       "    .dataframe tbody tr th {\n",
       "        vertical-align: top;\n",
       "    }\n",
       "\n",
       "    .dataframe thead th {\n",
       "        text-align: right;\n",
       "    }\n",
       "</style>\n",
       "<table border=\"1\" class=\"dataframe\">\n",
       "  <thead>\n",
       "    <tr style=\"text-align: right;\">\n",
       "      <th></th>\n",
       "      <th>Predicted</th>\n",
       "      <th>Actuals</th>\n",
       "    </tr>\n",
       "  </thead>\n",
       "  <tbody>\n",
       "    <tr>\n",
       "      <td>0</td>\n",
       "      <td>-0.816955</td>\n",
       "      <td>2</td>\n",
       "    </tr>\n",
       "    <tr>\n",
       "      <td>1</td>\n",
       "      <td>-2.961542</td>\n",
       "      <td>0</td>\n",
       "    </tr>\n",
       "    <tr>\n",
       "      <td>2</td>\n",
       "      <td>-3.102475</td>\n",
       "      <td>-11</td>\n",
       "    </tr>\n",
       "    <tr>\n",
       "      <td>3</td>\n",
       "      <td>-2.133874</td>\n",
       "      <td>0</td>\n",
       "    </tr>\n",
       "    <tr>\n",
       "      <td>4</td>\n",
       "      <td>-2.173469</td>\n",
       "      <td>1</td>\n",
       "    </tr>\n",
       "  </tbody>\n",
       "</table>\n",
       "</div>"
      ],
      "text/plain": [
       "   Predicted  Actuals\n",
       "0  -0.816955        2\n",
       "1  -2.961542        0\n",
       "2  -3.102475      -11\n",
       "3  -2.133874        0\n",
       "4  -2.173469        1"
      ]
     },
     "execution_count": 96,
     "metadata": {},
     "output_type": "execute_result"
    }
   ],
   "source": [
    "met.head()"
   ]
  },
  {
   "cell_type": "code",
   "execution_count": 97,
   "metadata": {},
   "outputs": [
    {
     "data": {
      "text/plain": [
       "dtype('int64')"
      ]
     },
     "execution_count": 97,
     "metadata": {},
     "output_type": "execute_result"
    }
   ],
   "source": [
    "y_valid.dtypes"
   ]
  },
  {
   "cell_type": "code",
   "execution_count": 98,
   "metadata": {},
   "outputs": [
    {
     "data": {
      "text/plain": [
       "inf"
      ]
     },
     "execution_count": 98,
     "metadata": {},
     "output_type": "execute_result"
    }
   ],
   "source": [
    "(abs(met.Predicted-met.Actuals)/met.Actuals).mean()"
   ]
  },
  {
   "cell_type": "markdown",
   "metadata": {},
   "source": [
    "## Tree based model"
   ]
  },
  {
   "cell_type": "code",
   "execution_count": 99,
   "metadata": {},
   "outputs": [],
   "source": [
    "from sklearn.tree import DecisionTreeRegressor\n",
    "model2 = DecisionTreeRegressor(random_state=0 , max_depth=5)"
   ]
  },
  {
   "cell_type": "code",
   "execution_count": 100,
   "metadata": {},
   "outputs": [
    {
     "data": {
      "text/plain": [
       "DecisionTreeRegressor(criterion='mse', max_depth=5, max_features=None,\n",
       "                      max_leaf_nodes=None, min_impurity_decrease=0.0,\n",
       "                      min_impurity_split=None, min_samples_leaf=1,\n",
       "                      min_samples_split=2, min_weight_fraction_leaf=0.0,\n",
       "                      presort=False, random_state=0, splitter='best')"
      ]
     },
     "execution_count": 100,
     "metadata": {},
     "output_type": "execute_result"
    }
   ],
   "source": [
    "model2.fit(x_train_f1, y_train)"
   ]
  },
  {
   "cell_type": "code",
   "execution_count": 101,
   "metadata": {},
   "outputs": [],
   "source": [
    "y_predict2 = model2.predict(x_valid_f1)"
   ]
  },
  {
   "cell_type": "code",
   "execution_count": 102,
   "metadata": {},
   "outputs": [
    {
     "data": {
      "text/plain": [
       "99.37357816707926"
      ]
     },
     "execution_count": 102,
     "metadata": {},
     "output_type": "execute_result"
    }
   ],
   "source": [
    "\n",
    "mean_squared_error(y_valid, y_predict2)"
   ]
  },
  {
   "cell_type": "code",
   "execution_count": 103,
   "metadata": {},
   "outputs": [
    {
     "data": {
      "text/plain": [
       "-0.014218944760916674"
      ]
     },
     "execution_count": 103,
     "metadata": {},
     "output_type": "execute_result"
    }
   ],
   "source": [
    "r2_score(y_valid, y_predict2)"
   ]
  },
  {
   "cell_type": "code",
   "execution_count": 104,
   "metadata": {},
   "outputs": [],
   "source": [
    "met1 = pd.DataFrame(zip(y_predict2 , y_test),columns=['Predicted','Actuals'])"
   ]
  },
  {
   "cell_type": "markdown",
   "metadata": {},
   "source": [
    "## Random Forest model"
   ]
  },
  {
   "cell_type": "code",
   "execution_count": 105,
   "metadata": {},
   "outputs": [],
   "source": [
    "from sklearn.ensemble import RandomForestClassifier"
   ]
  },
  {
   "cell_type": "code",
   "execution_count": 106,
   "metadata": {},
   "outputs": [],
   "source": [
    "model3=RandomForestClassifier()"
   ]
  },
  {
   "cell_type": "code",
   "execution_count": 107,
   "metadata": {},
   "outputs": [
    {
     "data": {
      "text/plain": [
       "RandomForestClassifier(bootstrap=True, class_weight=None, criterion='gini',\n",
       "                       max_depth=None, max_features='auto', max_leaf_nodes=None,\n",
       "                       min_impurity_decrease=0.0, min_impurity_split=None,\n",
       "                       min_samples_leaf=1, min_samples_split=2,\n",
       "                       min_weight_fraction_leaf=0.0, n_estimators=10,\n",
       "                       n_jobs=None, oob_score=False, random_state=None,\n",
       "                       verbose=0, warm_start=False)"
      ]
     },
     "execution_count": 107,
     "metadata": {},
     "output_type": "execute_result"
    }
   ],
   "source": [
    "model3.fit(x_train_f1, y_train)"
   ]
  },
  {
   "cell_type": "code",
   "execution_count": 108,
   "metadata": {},
   "outputs": [],
   "source": [
    "y_predict3 = model3.predict(x_valid_f1)"
   ]
  },
  {
   "cell_type": "code",
   "execution_count": 109,
   "metadata": {},
   "outputs": [
    {
     "data": {
      "text/plain": [
       "131.95036718156496"
      ]
     },
     "execution_count": 109,
     "metadata": {},
     "output_type": "execute_result"
    }
   ],
   "source": [
    "mean_squared_error(y_valid, y_predict3)"
   ]
  },
  {
   "cell_type": "code",
   "execution_count": 110,
   "metadata": {},
   "outputs": [
    {
     "data": {
      "text/plain": [
       "-0.3467016548271653"
      ]
     },
     "execution_count": 110,
     "metadata": {},
     "output_type": "execute_result"
    }
   ],
   "source": [
    "r2_score(y_valid, y_predict3)"
   ]
  },
  {
   "cell_type": "code",
   "execution_count": 111,
   "metadata": {},
   "outputs": [
    {
     "data": {
      "image/png": "[encoded data removed]",
      "text/plain": [
       "<Figure size 432x288 with 1 Axes>"
      ]
     },
     "metadata": {
      "needs_background": "light"
     },
     "output_type": "display_data"
    }
   ],
   "source": [
    "x_ax = range (len (y_valid))\n",
    "plt.plot(x_ax, y_valid , label=\"original\") \n",
    "plt.plot(x_ax, y_predict3 , label=\"predicted\") \n",
    "plt.title(\"Y_valid and predicted data\") \n",
    "plt.legend()\n",
    "plt.show()"
   ]
  },
  {
   "cell_type": "code",
   "execution_count": null,
   "metadata": {},
   "outputs": [],
   "source": []
  },
  {
   "cell_type": "markdown",
   "metadata": {},
   "source": [
    "### Checking on x_test_f1 data"
   ]
  },
  {
   "cell_type": "code",
   "execution_count": 112,
   "metadata": {},
   "outputs": [
    {
     "data": {
      "text/plain": [
       "140.43150164598632"
      ]
     },
     "execution_count": 112,
     "metadata": {},
     "output_type": "execute_result"
    }
   ],
   "source": [
    "y_predict_test = model3.predict(x_test_f1 )\n",
    "mean_squared_error(y_test, y_predict_test)"
   ]
  },
  {
   "cell_type": "code",
   "execution_count": 113,
   "metadata": {},
   "outputs": [
    {
     "data": {
      "text/plain": [
       "-0.38468093359521216"
      ]
     },
     "execution_count": 113,
     "metadata": {},
     "output_type": "execute_result"
    }
   ],
   "source": [
    "r2_score(y_test, y_predict_test)"
   ]
  },
  {
   "cell_type": "code",
   "execution_count": 114,
   "metadata": {},
   "outputs": [],
   "source": [
    "met_final = pd.DataFrame(zip(y_predict_test , y_test),columns=['Predicted','Actuals'])"
   ]
  },
  {
   "cell_type": "code",
   "execution_count": 115,
   "metadata": {},
   "outputs": [
    {
     "data": {
      "text/html": [
       "<div>\n",
       "<style scoped>\n",
       "    .dataframe tbody tr th:only-of-type {\n",
       "        vertical-align: middle;\n",
       "    }\n",
       "\n",
       "    .dataframe tbody tr th {\n",
       "        vertical-align: top;\n",
       "    }\n",
       "\n",
       "    .dataframe thead th {\n",
       "        text-align: right;\n",
       "    }\n",
       "</style>\n",
       "<table border=\"1\" class=\"dataframe\">\n",
       "  <thead>\n",
       "    <tr style=\"text-align: right;\">\n",
       "      <th></th>\n",
       "      <th>Predicted</th>\n",
       "      <th>Actuals</th>\n",
       "    </tr>\n",
       "  </thead>\n",
       "  <tbody>\n",
       "    <tr>\n",
       "      <td>0</td>\n",
       "      <td>-1</td>\n",
       "      <td>2</td>\n",
       "    </tr>\n",
       "    <tr>\n",
       "      <td>1</td>\n",
       "      <td>0</td>\n",
       "      <td>0</td>\n",
       "    </tr>\n",
       "    <tr>\n",
       "      <td>2</td>\n",
       "      <td>-5</td>\n",
       "      <td>-11</td>\n",
       "    </tr>\n",
       "    <tr>\n",
       "      <td>3</td>\n",
       "      <td>-2</td>\n",
       "      <td>0</td>\n",
       "    </tr>\n",
       "    <tr>\n",
       "      <td>4</td>\n",
       "      <td>-5</td>\n",
       "      <td>1</td>\n",
       "    </tr>\n",
       "  </tbody>\n",
       "</table>\n",
       "</div>"
      ],
      "text/plain": [
       "   Predicted  Actuals\n",
       "0         -1        2\n",
       "1          0        0\n",
       "2         -5      -11\n",
       "3         -2        0\n",
       "4         -5        1"
      ]
     },
     "execution_count": 115,
     "metadata": {},
     "output_type": "execute_result"
    }
   ],
   "source": [
    "met_final.head()"
   ]
  },
  {
   "cell_type": "code",
   "execution_count": 116,
   "metadata": {},
   "outputs": [
    {
     "data": {
      "image/png": "[encoded data removed]",
      "text/plain": [
       "<Figure size 432x288 with 1 Axes>"
      ]
     },
     "metadata": {
      "needs_background": "light"
     },
     "output_type": "display_data"
    }
   ],
   "source": [
    "x_ax = range (len (y_valid))\n",
    "plt.plot(x_ax, y_test , label=\"original\") \n",
    "plt.plot(x_ax,y_predict_test , label=\"predicted\") \n",
    "plt.title(\"Y_test and predicted data\") \n",
    "plt.legend()\n",
    "plt.show()"
   ]
  },
  {
   "cell_type": "markdown",
   "metadata": {},
   "source": [
    "# End"
   ]
  },
  {
   "cell_type": "code",
   "execution_count": 121,
   "metadata": {},
   "outputs": [
    {
     "name": "stdout",
     "output_type": "stream",
     "text": [
      "Mean absolute error = 5.11\n",
      "Mean squared error = 100.0\n",
      "Median absolute error = 3.29\n",
      "Explain variance score = 0.06\n",
      "R2 score = -0.02\n",
      "Accuracy=  -0.020637179331119526\n"
     ]
    }
   ],
   "source": [
    "import sklearn.metrics as sm\n",
    "clf5 = LinearRegression()\n",
    "clf5.fit(x_train_f1, y_train)\n",
    "\n",
    "# Predicting the Test Set Results\n",
    "predicted5 = clf5.predict(x_valid_f1)\n",
    "\n",
    "\n",
    "print(\"Mean absolute error =\", round(sm.mean_absolute_error(y_valid, predicted5), 2)) \n",
    "print(\"Mean squared error =\", round(sm.mean_squared_error(y_valid, predicted5), 2)) \n",
    "print(\"Median absolute error =\", round(sm.median_absolute_error(y_valid, predicted5), 2)) \n",
    "print(\"Explain variance score =\", round(sm.explained_variance_score(y_valid, predicted5), 2)) \n",
    "print(\"R2 score =\", round(sm.r2_score(y_valid, predicted5), 2))\n",
    "print(\"Accuracy= \", clf5.score(x_valid_f1,y_valid))"
   ]
  },
  {
   "cell_type": "code",
   "execution_count": null,
   "metadata": {},
   "outputs": [],
   "source": []
  }
 ],
 "metadata": {
  "kernelspec": {
   "display_name": "Python 3",
   "language": "python",
   "name": "python3"
  },
  "language_info": {
   "codemirror_mode": {
    "name": "ipython",
    "version": 3
   },
   "file_extension": ".py",
   "mimetype": "text/x-python",
   "name": "python",
   "nbconvert_exporter": "python",
   "pygments_lexer": "ipython3",
   "version": "3.6.10"
  }
 },
 "nbformat": 4,
 "nbformat_minor": 2
}
